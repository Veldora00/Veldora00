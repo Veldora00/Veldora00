{
  "nbformat": 4,
  "nbformat_minor": 0,
  "metadata": {
    "colab": {
      "provenance": [],
      "authorship_tag": "ABX9TyMigbvYAysL7Usb6W6J3Yyr",
      "include_colab_link": true
    },
    "kernelspec": {
      "name": "python3",
      "display_name": "Python 3"
    },
    "language_info": {
      "name": "python"
    }
  },
  "cells": [
    {
      "cell_type": "markdown",
      "metadata": {
        "id": "view-in-github",
        "colab_type": "text"
      },
      "source": [
        "<a href=\"https://colab.research.google.com/github/Veldora00/Veldora00/blob/main/stockarbitrage_alert.ipynb\" target=\"_parent\"><img src=\"https://colab.research.google.com/assets/colab-badge.svg\" alt=\"Open In Colab\"/></a>"
      ]
    },
    {
      "cell_type": "code",
      "source": [
        "!pip install yfinance pushbullet.py\n",
        "\n",
        "import yfinance as yf\n",
        "from pushbullet import Pushbullet\n",
        "import smtplib\n",
        "from email.mime.multipart import MIMEMultipart\n",
        "from email.mime.text import MIMEText\n",
        "\n",
        "# List of companies to monitor\n",
        "companies = [\"RIO\", \"BHP\", \"WDS\", \"LNW\", \"RMD\", \"SQ\", \"NEM\", \"JHX\", \"LIF\", \"MTAL\", \"AMCR\", \"SSRM\", \"IPX\", \"PLL\", \"RCEL\", \"ALTM\" , \"CS.TO\", \"NXE.TO\", \"VMUK.L\", \"ADT1.L\", \"URW.PA\", ]\n",
        "\n",
        "# Pushbullet API key (replace with your actual API key)\n",
        "PUSHBULLET_API_KEY = 'o.x'\n",
        "# Email credentials (replace with your actual credentials)\n",
        "EMAIL_ADDRESS = 'xx'\n",
        "EMAIL_PASSWORD = 'dx'  # Use an App Password if 2FA is enabled\n",
        "SMTP_SERVER = 'smtp.gmail.com'\n",
        "SMTP_PORT = x\n",
        "\n",
        "# Function to send an email notification\n",
        "def send_email(subject, body):\n",
        "    msg = MIMEMultipart()\n",
        "    msg['From'] = EMAIL_ADDRESS\n",
        "    msg['To'] = EMAIL_ADDRESS\n",
        "    msg['Subject'] = subject\n",
        "    msg.attach(MIMEText(body, 'plain'))\n",
        "\n",
        "    with smtplib.SMTP(SMTP_SERVER, SMTP_PORT) as server:\n",
        "        server.starttls()\n",
        "        server.login(EMAIL_ADDRESS, EMAIL_PASSWORD)\n",
        "        server.send_message(msg)\n",
        "\n",
        "# Function to send a Pushbullet notification\n",
        "def send_push_notification(title, body):\n",
        "    pb = Pushbullet(PUSHBULLET_API_KEY)\n",
        "    pb.push_note(title, body)\n",
        "\n",
        "# Function to check stock prices and send notifications if a stock rises more than 1%\n",
        "def check_stock_prices():\n",
        "    for company in companies:\n",
        "        stock = yf.Ticker(company)\n",
        "        data = stock.history(period=\"1d\")\n",
        "        if not data.empty:\n",
        "            open_price = data.iloc[0]['Open']\n",
        "            close_price = data.iloc[0]['Close']\n",
        "            percentage_change = ((close_price - open_price) / open_price) * 100\n",
        "\n",
        "            if percentage_change > 1:\n",
        "                subject = f\"{company} Alert: Stock Price Increase\"\n",
        "                body = f\"The stock price of {company} has risen by {percentage_change:.2f}% today.\"\n",
        "\n",
        "                # Send email\n",
        "                send_email(subject, body)\n",
        "\n",
        "                # Send push notification\n",
        "                send_push_notification(subject, body)\n",
        "\n",
        "# Run the function\n",
        "check_stock_prices()"
      ],
      "metadata": {
        "id": "nOW8_hV8k7DE",
        "colab": {
          "base_uri": "https://localhost:8080/"
        },
        "outputId": "826c0ac7-ff51-4aad-a8e5-8ce8093ccb77"
      },
      "execution_count": null,
      "outputs": [
        {
          "output_type": "stream",
          "name": "stdout",
          "text": [
            "Requirement already satisfied: yfinance in /usr/local/lib/python3.10/dist-packages (0.2.41)\n",
            "Collecting pushbullet.py\n",
            "  Downloading pushbullet.py-0.12.0-py2.py3-none-any.whl.metadata (945 bytes)\n",
            "Requirement already satisfied: pandas>=1.3.0 in /usr/local/lib/python3.10/dist-packages (from yfinance) (2.1.4)\n",
            "Requirement already satisfied: numpy>=1.16.5 in /usr/local/lib/python3.10/dist-packages (from yfinance) (1.26.4)\n",
            "Requirement already satisfied: requests>=2.31 in /usr/local/lib/python3.10/dist-packages (from yfinance) (2.32.3)\n",
            "Requirement already satisfied: multitasking>=0.0.7 in /usr/local/lib/python3.10/dist-packages (from yfinance) (0.0.11)\n",
            "Requirement already satisfied: lxml>=4.9.1 in /usr/local/lib/python3.10/dist-packages (from yfinance) (4.9.4)\n",
            "Requirement already satisfied: platformdirs>=2.0.0 in /usr/local/lib/python3.10/dist-packages (from yfinance) (4.2.2)\n",
            "Requirement already satisfied: pytz>=2022.5 in /usr/local/lib/python3.10/dist-packages (from yfinance) (2024.1)\n",
            "Requirement already satisfied: frozendict>=2.3.4 in /usr/local/lib/python3.10/dist-packages (from yfinance) (2.4.4)\n",
            "Requirement already satisfied: peewee>=3.16.2 in /usr/local/lib/python3.10/dist-packages (from yfinance) (3.17.6)\n",
            "Requirement already satisfied: beautifulsoup4>=4.11.1 in /usr/local/lib/python3.10/dist-packages (from yfinance) (4.12.3)\n",
            "Requirement already satisfied: html5lib>=1.1 in /usr/local/lib/python3.10/dist-packages (from yfinance) (1.1)\n",
            "Collecting python-magic (from pushbullet.py)\n",
            "  Downloading python_magic-0.4.27-py2.py3-none-any.whl.metadata (5.8 kB)\n",
            "Requirement already satisfied: websocket-client>=0.53.0 in /usr/local/lib/python3.10/dist-packages (from pushbullet.py) (1.8.0)\n",
            "Requirement already satisfied: soupsieve>1.2 in /usr/local/lib/python3.10/dist-packages (from beautifulsoup4>=4.11.1->yfinance) (2.5)\n",
            "Requirement already satisfied: six>=1.9 in /usr/local/lib/python3.10/dist-packages (from html5lib>=1.1->yfinance) (1.16.0)\n",
            "Requirement already satisfied: webencodings in /usr/local/lib/python3.10/dist-packages (from html5lib>=1.1->yfinance) (0.5.1)\n",
            "Requirement already satisfied: python-dateutil>=2.8.2 in /usr/local/lib/python3.10/dist-packages (from pandas>=1.3.0->yfinance) (2.8.2)\n",
            "Requirement already satisfied: tzdata>=2022.1 in /usr/local/lib/python3.10/dist-packages (from pandas>=1.3.0->yfinance) (2024.1)\n",
            "Requirement already satisfied: charset-normalizer<4,>=2 in /usr/local/lib/python3.10/dist-packages (from requests>=2.31->yfinance) (3.3.2)\n",
            "Requirement already satisfied: idna<4,>=2.5 in /usr/local/lib/python3.10/dist-packages (from requests>=2.31->yfinance) (3.7)\n",
            "Requirement already satisfied: urllib3<3,>=1.21.1 in /usr/local/lib/python3.10/dist-packages (from requests>=2.31->yfinance) (2.0.7)\n",
            "Requirement already satisfied: certifi>=2017.4.17 in /usr/local/lib/python3.10/dist-packages (from requests>=2.31->yfinance) (2024.7.4)\n",
            "Downloading pushbullet.py-0.12.0-py2.py3-none-any.whl (10 kB)\n",
            "Downloading python_magic-0.4.27-py2.py3-none-any.whl (13 kB)\n",
            "Installing collected packages: python-magic, pushbullet.py\n",
            "Successfully installed pushbullet.py-0.12.0 python-magic-0.4.27\n"
          ]
        }
      ]
    }
  ]
}