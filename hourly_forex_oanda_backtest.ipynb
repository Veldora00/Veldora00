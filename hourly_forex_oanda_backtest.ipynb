{
  "nbformat": 4,
  "nbformat_minor": 0,
  "metadata": {
    "colab": {
      "provenance": [],
      "authorship_tag": "ABX9TyMsxvr0e2wec5au2VcN+urd",
      "include_colab_link": true
    },
    "kernelspec": {
      "name": "python3",
      "display_name": "Python 3"
    },
    "language_info": {
      "name": "python"
    }
  },
  "cells": [
    {
      "cell_type": "markdown",
      "metadata": {
        "id": "view-in-github",
        "colab_type": "text"
      },
      "source": [
        "<a href=\"https://colab.research.google.com/github/Veldora00/Veldora00/blob/main/hourly_forex_oanda_backtest.ipynb\" target=\"_parent\"><img src=\"https://colab.research.google.com/assets/colab-badge.svg\" alt=\"Open In Colab\"/></a>"
      ]
    },
    {
      "cell_type": "code",
      "execution_count": null,
      "metadata": {
        "colab": {
          "base_uri": "https://localhost:8080/",
          "height": 1000
        },
        "id": "ndFdPfKDosHd",
        "outputId": "e5677924-d7c1-4764-cbe8-3fe4b957e8d5"
      },
      "outputs": [
        {
          "output_type": "stream",
          "name": "stdout",
          "text": [
            "Requirement already satisfied: oandapyV20 in /usr/local/lib/python3.10/dist-packages (0.7.2)\n",
            "Requirement already satisfied: fredapi in /usr/local/lib/python3.10/dist-packages (0.5.2)\n",
            "Requirement already satisfied: pandas in /usr/local/lib/python3.10/dist-packages (from fredapi) (2.1.4)\n",
            "Requirement already satisfied: numpy<2,>=1.22.4 in /usr/local/lib/python3.10/dist-packages (from pandas->fredapi) (1.26.4)\n",
            "Requirement already satisfied: python-dateutil>=2.8.2 in /usr/local/lib/python3.10/dist-packages (from pandas->fredapi) (2.8.2)\n",
            "Requirement already satisfied: pytz>=2020.1 in /usr/local/lib/python3.10/dist-packages (from pandas->fredapi) (2024.1)\n",
            "Requirement already satisfied: tzdata>=2022.1 in /usr/local/lib/python3.10/dist-packages (from pandas->fredapi) (2024.1)\n",
            "Requirement already satisfied: six>=1.5 in /usr/local/lib/python3.10/dist-packages (from python-dateutil>=2.8.2->pandas->fredapi) (1.16.0)\n"
          ]
        },
        {
          "output_type": "stream",
          "name": "stderr",
          "text": [
            "ERROR:oandapyV20.oandapyV20:request https://api-fxtrade.oanda.com/v3/instruments/EUR_GBP/candles failed [401,{\"errorMessage\":\"Insufficient authorization to perform request.\"}]\n",
            "ERROR:oandapyV20.oandapyV20:request https://api-fxtrade.oanda.com/v3/instruments/EUR_AUD/candles failed [401,{\"errorMessage\":\"Insufficient authorization to perform request.\"}]\n"
          ]
        },
        {
          "output_type": "stream",
          "name": "stdout",
          "text": [
            "Error fetching data: {\"errorMessage\":\"Insufficient authorization to perform request.\"}\n",
            "Failed to fetch data for EUR_GBP\n",
            "Error fetching data: {\"errorMessage\":\"Insufficient authorization to perform request.\"}\n",
            "Failed to fetch data for EUR_AUD\n"
          ]
        },
        {
          "output_type": "stream",
          "name": "stderr",
          "text": [
            "ERROR:oandapyV20.oandapyV20:request https://api-fxtrade.oanda.com/v3/instruments/EUR_NZD/candles failed [401,{\"errorMessage\":\"Insufficient authorization to perform request.\"}]\n",
            "ERROR:oandapyV20.oandapyV20:request https://api-fxtrade.oanda.com/v3/instruments/EUR_CHF/candles failed [401,{\"errorMessage\":\"Insufficient authorization to perform request.\"}]\n"
          ]
        },
        {
          "output_type": "stream",
          "name": "stdout",
          "text": [
            "Error fetching data: {\"errorMessage\":\"Insufficient authorization to perform request.\"}\n",
            "Failed to fetch data for EUR_NZD\n",
            "Error fetching data: {\"errorMessage\":\"Insufficient authorization to perform request.\"}\n",
            "Failed to fetch data for EUR_CHF\n"
          ]
        },
        {
          "output_type": "stream",
          "name": "stderr",
          "text": [
            "ERROR:oandapyV20.oandapyV20:request https://api-fxtrade.oanda.com/v3/instruments/EUR_CAD/candles failed [401,{\"errorMessage\":\"Insufficient authorization to perform request.\"}]\n",
            "ERROR:oandapyV20.oandapyV20:request https://api-fxtrade.oanda.com/v3/instruments/GBP_AUD/candles failed [401,{\"errorMessage\":\"Insufficient authorization to perform request.\"}]\n"
          ]
        },
        {
          "output_type": "stream",
          "name": "stdout",
          "text": [
            "Error fetching data: {\"errorMessage\":\"Insufficient authorization to perform request.\"}\n",
            "Failed to fetch data for EUR_CAD\n",
            "Error fetching data: {\"errorMessage\":\"Insufficient authorization to perform request.\"}\n",
            "Failed to fetch data for GBP_AUD\n"
          ]
        },
        {
          "output_type": "stream",
          "name": "stderr",
          "text": [
            "ERROR:oandapyV20.oandapyV20:request https://api-fxtrade.oanda.com/v3/instruments/GBP_NZD/candles failed [401,{\"errorMessage\":\"Insufficient authorization to perform request.\"}]\n",
            "ERROR:oandapyV20.oandapyV20:request https://api-fxtrade.oanda.com/v3/instruments/GBP_CHF/candles failed [401,{\"errorMessage\":\"Insufficient authorization to perform request.\"}]\n"
          ]
        },
        {
          "output_type": "stream",
          "name": "stdout",
          "text": [
            "Error fetching data: {\"errorMessage\":\"Insufficient authorization to perform request.\"}\n",
            "Failed to fetch data for GBP_NZD\n",
            "Error fetching data: {\"errorMessage\":\"Insufficient authorization to perform request.\"}\n",
            "Failed to fetch data for GBP_CHF\n"
          ]
        },
        {
          "output_type": "stream",
          "name": "stderr",
          "text": [
            "ERROR:oandapyV20.oandapyV20:request https://api-fxtrade.oanda.com/v3/instruments/GBP_CAD/candles failed [401,{\"errorMessage\":\"Insufficient authorization to perform request.\"}]\n",
            "ERROR:oandapyV20.oandapyV20:request https://api-fxtrade.oanda.com/v3/instruments/AUD_NZD/candles failed [401,{\"errorMessage\":\"Insufficient authorization to perform request.\"}]\n"
          ]
        },
        {
          "output_type": "stream",
          "name": "stdout",
          "text": [
            "Error fetching data: {\"errorMessage\":\"Insufficient authorization to perform request.\"}\n",
            "Failed to fetch data for GBP_CAD\n",
            "Error fetching data: {\"errorMessage\":\"Insufficient authorization to perform request.\"}\n",
            "Failed to fetch data for AUD_NZD\n"
          ]
        },
        {
          "output_type": "stream",
          "name": "stderr",
          "text": [
            "ERROR:oandapyV20.oandapyV20:request https://api-fxtrade.oanda.com/v3/instruments/AUD_CHF/candles failed [401,{\"errorMessage\":\"Insufficient authorization to perform request.\"}]\n",
            "ERROR:oandapyV20.oandapyV20:request https://api-fxtrade.oanda.com/v3/instruments/AUD_CAD/candles failed [401,{\"errorMessage\":\"Insufficient authorization to perform request.\"}]\n"
          ]
        },
        {
          "output_type": "stream",
          "name": "stdout",
          "text": [
            "Error fetching data: {\"errorMessage\":\"Insufficient authorization to perform request.\"}\n",
            "Failed to fetch data for AUD_CHF\n",
            "Error fetching data: {\"errorMessage\":\"Insufficient authorization to perform request.\"}\n",
            "Failed to fetch data for AUD_CAD\n"
          ]
        },
        {
          "output_type": "stream",
          "name": "stderr",
          "text": [
            "ERROR:oandapyV20.oandapyV20:request https://api-fxtrade.oanda.com/v3/instruments/NZD_CHF/candles failed [401,{\"errorMessage\":\"Insufficient authorization to perform request.\"}]\n",
            "ERROR:oandapyV20.oandapyV20:request https://api-fxtrade.oanda.com/v3/instruments/NZD_CAD/candles failed [401,{\"errorMessage\":\"Insufficient authorization to perform request.\"}]\n"
          ]
        },
        {
          "output_type": "stream",
          "name": "stdout",
          "text": [
            "Error fetching data: {\"errorMessage\":\"Insufficient authorization to perform request.\"}\n",
            "Failed to fetch data for NZD_CHF\n",
            "Error fetching data: {\"errorMessage\":\"Insufficient authorization to perform request.\"}\n",
            "Failed to fetch data for NZD_CAD\n"
          ]
        },
        {
          "output_type": "stream",
          "name": "stderr",
          "text": [
            "ERROR:oandapyV20.oandapyV20:request https://api-fxtrade.oanda.com/v3/instruments/CHF_CAD/candles failed [401,{\"errorMessage\":\"Insufficient authorization to perform request.\"}]\n"
          ]
        },
        {
          "output_type": "stream",
          "name": "stdout",
          "text": [
            "Error fetching data: {\"errorMessage\":\"Insufficient authorization to perform request.\"}\n",
            "Failed to fetch data for CHF_CAD\n"
          ]
        },
        {
          "output_type": "error",
          "ename": "ValueError",
          "evalue": "No objects to concatenate",
          "traceback": [
            "\u001b[0;31m---------------------------------------------------------------------------\u001b[0m",
            "\u001b[0;31mValueError\u001b[0m                                Traceback (most recent call last)",
            "\u001b[0;32m<ipython-input-2-dfd6d71e6298>\u001b[0m in \u001b[0;36m<cell line: 260>\u001b[0;34m()\u001b[0m\n\u001b[1;32m    258\u001b[0m \u001b[0;34m\u001b[0m\u001b[0m\n\u001b[1;32m    259\u001b[0m \u001b[0;31m# Concatenate all trades into a single DataFrame and save to CSV\u001b[0m\u001b[0;34m\u001b[0m\u001b[0;34m\u001b[0m\u001b[0m\n\u001b[0;32m--> 260\u001b[0;31m \u001b[0mall_trades_df\u001b[0m \u001b[0;34m=\u001b[0m \u001b[0mpd\u001b[0m\u001b[0;34m.\u001b[0m\u001b[0mconcat\u001b[0m\u001b[0;34m(\u001b[0m\u001b[0mall_trades\u001b[0m\u001b[0;34m)\u001b[0m\u001b[0;34m\u001b[0m\u001b[0;34m\u001b[0m\u001b[0m\n\u001b[0m\u001b[1;32m    261\u001b[0m \u001b[0mall_trades_df\u001b[0m\u001b[0;34m.\u001b[0m\u001b[0mto_csv\u001b[0m\u001b[0;34m(\u001b[0m\u001b[0;34m'all_trades_oanda.csv'\u001b[0m\u001b[0;34m,\u001b[0m \u001b[0mindex\u001b[0m\u001b[0;34m=\u001b[0m\u001b[0;32mFalse\u001b[0m\u001b[0;34m)\u001b[0m\u001b[0;34m\u001b[0m\u001b[0;34m\u001b[0m\u001b[0m\n\u001b[1;32m    262\u001b[0m \u001b[0mprint\u001b[0m\u001b[0;34m(\u001b[0m\u001b[0;34m\"All trades saved to all_trades_oanda.csv\"\u001b[0m\u001b[0;34m)\u001b[0m\u001b[0;34m\u001b[0m\u001b[0;34m\u001b[0m\u001b[0m\n",
            "\u001b[0;32m/usr/local/lib/python3.10/dist-packages/pandas/core/reshape/concat.py\u001b[0m in \u001b[0;36mconcat\u001b[0;34m(objs, axis, join, ignore_index, keys, levels, names, verify_integrity, sort, copy)\u001b[0m\n\u001b[1;32m    378\u001b[0m         \u001b[0mcopy\u001b[0m \u001b[0;34m=\u001b[0m \u001b[0;32mFalse\u001b[0m\u001b[0;34m\u001b[0m\u001b[0;34m\u001b[0m\u001b[0m\n\u001b[1;32m    379\u001b[0m \u001b[0;34m\u001b[0m\u001b[0m\n\u001b[0;32m--> 380\u001b[0;31m     op = _Concatenator(\n\u001b[0m\u001b[1;32m    381\u001b[0m         \u001b[0mobjs\u001b[0m\u001b[0;34m,\u001b[0m\u001b[0;34m\u001b[0m\u001b[0;34m\u001b[0m\u001b[0m\n\u001b[1;32m    382\u001b[0m         \u001b[0maxis\u001b[0m\u001b[0;34m=\u001b[0m\u001b[0maxis\u001b[0m\u001b[0;34m,\u001b[0m\u001b[0;34m\u001b[0m\u001b[0;34m\u001b[0m\u001b[0m\n",
            "\u001b[0;32m/usr/local/lib/python3.10/dist-packages/pandas/core/reshape/concat.py\u001b[0m in \u001b[0;36m__init__\u001b[0;34m(self, objs, axis, join, keys, levels, names, ignore_index, verify_integrity, copy, sort)\u001b[0m\n\u001b[1;32m    441\u001b[0m         \u001b[0mself\u001b[0m\u001b[0;34m.\u001b[0m\u001b[0mcopy\u001b[0m \u001b[0;34m=\u001b[0m \u001b[0mcopy\u001b[0m\u001b[0;34m\u001b[0m\u001b[0;34m\u001b[0m\u001b[0m\n\u001b[1;32m    442\u001b[0m \u001b[0;34m\u001b[0m\u001b[0m\n\u001b[0;32m--> 443\u001b[0;31m         \u001b[0mobjs\u001b[0m\u001b[0;34m,\u001b[0m \u001b[0mkeys\u001b[0m \u001b[0;34m=\u001b[0m \u001b[0mself\u001b[0m\u001b[0;34m.\u001b[0m\u001b[0m_clean_keys_and_objs\u001b[0m\u001b[0;34m(\u001b[0m\u001b[0mobjs\u001b[0m\u001b[0;34m,\u001b[0m \u001b[0mkeys\u001b[0m\u001b[0;34m)\u001b[0m\u001b[0;34m\u001b[0m\u001b[0;34m\u001b[0m\u001b[0m\n\u001b[0m\u001b[1;32m    444\u001b[0m \u001b[0;34m\u001b[0m\u001b[0m\n\u001b[1;32m    445\u001b[0m         \u001b[0;31m# figure out what our result ndim is going to be\u001b[0m\u001b[0;34m\u001b[0m\u001b[0;34m\u001b[0m\u001b[0m\n",
            "\u001b[0;32m/usr/local/lib/python3.10/dist-packages/pandas/core/reshape/concat.py\u001b[0m in \u001b[0;36m_clean_keys_and_objs\u001b[0;34m(self, objs, keys)\u001b[0m\n\u001b[1;32m    503\u001b[0m \u001b[0;34m\u001b[0m\u001b[0m\n\u001b[1;32m    504\u001b[0m         \u001b[0;32mif\u001b[0m \u001b[0mlen\u001b[0m\u001b[0;34m(\u001b[0m\u001b[0mobjs_list\u001b[0m\u001b[0;34m)\u001b[0m \u001b[0;34m==\u001b[0m \u001b[0;36m0\u001b[0m\u001b[0;34m:\u001b[0m\u001b[0;34m\u001b[0m\u001b[0;34m\u001b[0m\u001b[0m\n\u001b[0;32m--> 505\u001b[0;31m             \u001b[0;32mraise\u001b[0m \u001b[0mValueError\u001b[0m\u001b[0;34m(\u001b[0m\u001b[0;34m\"No objects to concatenate\"\u001b[0m\u001b[0;34m)\u001b[0m\u001b[0;34m\u001b[0m\u001b[0;34m\u001b[0m\u001b[0m\n\u001b[0m\u001b[1;32m    506\u001b[0m \u001b[0;34m\u001b[0m\u001b[0m\n\u001b[1;32m    507\u001b[0m         \u001b[0;32mif\u001b[0m \u001b[0mkeys\u001b[0m \u001b[0;32mis\u001b[0m \u001b[0;32mNone\u001b[0m\u001b[0;34m:\u001b[0m\u001b[0;34m\u001b[0m\u001b[0;34m\u001b[0m\u001b[0m\n",
            "\u001b[0;31mValueError\u001b[0m: No objects to concatenate"
          ]
        }
      ],
      "source": [
        "!pip install oandapyV20\n",
        "!pip install fredapi\n",
        "import requests\n",
        "import pandas as pd\n",
        "import numpy as np\n",
        "import matplotlib.pyplot as plt\n",
        "from scipy.signal import argrelextrema\n",
        "import oandapyV20\n",
        "from oandapyV20 import API\n",
        "from oandapyV20.endpoints import instruments\n",
        "from datetime import timedelta\n",
        "from fredapi import Fred\n",
        "\n",
        "# OANDA API credentials\n",
        "oanda_api_key = 'xx-xx'\n",
        "oanda_account_id = 'zz'\n",
        "oanda_api_url = 'https://api-fxtrade.oanda.com'\n",
        "\n",
        "# FRED API key\n",
        "fred_api_key = '1914a7e8b0b38709c172004439e86d0a'\n",
        "fred = Fred(api_key=fred_api_key)\n",
        "\n",
        "# Macroeconomic data series to fetch\n",
        "macro_series = [\n",
        "    'CPIAUCSL', 'UNRATE', 'GDP', 'PPIACO', 'FEDFUNDS', 'PAYEMS',\n",
        "    'PCEPI', 'RSAFS', 'INDPRO', 'HOUST', 'BOPGSTB'\n",
        "]\n",
        "\n",
        "# Fetch macroeconomic data release dates\n",
        "macro_dates = []\n",
        "for series in macro_series:\n",
        "    data_series = fred.get_series(series, observation_start='2023-11-01', observation_end='2024-08-01')\n",
        "    macro_dates.extend(data_series.index.to_list())\n",
        "\n",
        "# Convert macro dates to datetime format and remove duplicates\n",
        "macro_dates = pd.to_datetime(macro_dates)\n",
        "macro_dates = macro_dates.drop_duplicates()\n",
        "\n",
        "# Function to fetch historical data from OANDA\n",
        "def fetch_ohlc_data(symbol, granularity, count=5000):\n",
        "    headers = {\n",
        "        \"Authorization\": f\"Bearer {oanda_api_key}\",\n",
        "        \"Content-Type\": \"application/json\"\n",
        "    }\n",
        "    api = API(access_token=oanda_api_key, environment=\"live\", headers=headers)\n",
        "    params = {\n",
        "        \"granularity\": granularity,\n",
        "        \"count\": count\n",
        "    }\n",
        "    r = instruments.InstrumentsCandles(instrument=symbol, params=params)\n",
        "    try:\n",
        "        response = api.request(r)\n",
        "    except oandapyV20.exceptions.V20Error as e:\n",
        "        print(f\"Error fetching data: {e}\")\n",
        "        return None\n",
        "\n",
        "    if 'candles' not in response:\n",
        "        print(\"Error fetching data: Candles not found in response.\")\n",
        "        return None\n",
        "\n",
        "    candles = response['candles']\n",
        "    df = pd.DataFrame([{\n",
        "        'time': candle['time'],\n",
        "        'open': float(candle['mid']['o']),\n",
        "        'high': float(candle['mid']['h']),\n",
        "        'low': float(candle['mid']['l']),\n",
        "        'close': float(candle['mid']['c'])\n",
        "    } for candle in candles])\n",
        "    df['time'] = pd.to_datetime(df['time'])\n",
        "    df.set_index('time', inplace=True)\n",
        "    return df\n",
        "\n",
        "\n",
        "def backtest(data, symbol, macro_dates=None, initial_balance=10000, pip_value=0.0001, risk_per_trade=0.005, sl_pips=10, move_to_breakeven_pips=20):\n",
        "    balance = initial_balance\n",
        "    equity_curve = []\n",
        "    drawdown = []\n",
        "    max_balance = initial_balance\n",
        "    in_position = False\n",
        "    entry_price = 0\n",
        "    sl = 0\n",
        "    tp = 0\n",
        "    position_size = 0\n",
        "    positions = []\n",
        "    total_trades = 0\n",
        "    profit_trades = 0\n",
        "    loss_trades = 0\n",
        "    trades = []\n",
        "    debug_log = []\n",
        "\n",
        "    for i in range(len(data)):\n",
        "        current_date = data.index[i]\n",
        "        current_price = data['close'].iloc[i]\n",
        "\n",
        "        # Skip macroeconomic dates\n",
        "        if macro_dates is not None and current_date in macro_dates:\n",
        "            debug_log.append(f\"Skipping due to macro date: {current_date}\")\n",
        "            continue\n",
        "\n",
        "        # Calculate the dollar risk for the trade\n",
        "        dollar_risk = balance * risk_per_trade\n",
        "\n",
        "        # Check if in position and close position if TP or SL is hit\n",
        "        if in_position:\n",
        "            if positions[-1][1] == 'Short':\n",
        "                if current_price >= sl:  # SL hit\n",
        "                    trade_result = position_size * (entry_price - sl)\n",
        "                    balance += trade_result\n",
        "                    trades.append([symbol, current_date, 'Short', entry_price, sl, sl, tp, trade_result])\n",
        "                    debug_log.append(f\"Short SL hit at {current_date} for {symbol}. Price: {current_price}, SL: {sl}\")\n",
        "                    in_position = False\n",
        "                    loss_trades += 1\n",
        "                elif current_price <= tp:  # TP hit\n",
        "                    trade_result = position_size * (entry_price - tp)\n",
        "                    balance += trade_result\n",
        "                    trades.append([symbol, current_date, 'Short', entry_price, tp, sl, tp, trade_result])\n",
        "                    debug_log.append(f\"Short TP hit at {current_date} for {symbol}. Price: {current_price}, TP: {tp}\")\n",
        "                    in_position = False\n",
        "                    profit_trades += 1\n",
        "                elif entry_price - current_price >= move_to_breakeven_pips * pip_value:\n",
        "                    sl = entry_price  # Move SL to break-even\n",
        "                    debug_log.append(\"Short position SL moved to break-even\")\n",
        "            elif positions[-1][1] == 'Long':\n",
        "                if current_price <= sl:  # SL hit\n",
        "                    trade_result = position_size * (sl - entry_price)\n",
        "                    balance += trade_result\n",
        "                    trades.append([symbol, current_date, 'Long', entry_price, sl, sl, tp, trade_result])\n",
        "                    debug_log.append(f\"Long SL hit at {current_date} for {symbol}. Price: {current_price}, SL: {sl}\")\n",
        "                    in_position = False\n",
        "                    loss_trades += 1\n",
        "                elif current_price >= tp:  # TP hit\n",
        "                    trade_result = position_size * (tp - entry_price)\n",
        "                    balance += trade_result\n",
        "                    trades.append([symbol, current_date, 'Long', entry_price, tp, sl, tp, trade_result])\n",
        "                    debug_log.append(f\"Long TP hit at {current_date} for {symbol}. Price: {current_price}, TP: {tp}\")\n",
        "                    in_position = False\n",
        "                    profit_trades += 1\n",
        "                elif current_price - entry_price >= move_to_breakeven_pips * pip_value:\n",
        "                    sl = entry_price  # Move SL to break-even\n",
        "                    debug_log.append(\"Long position SL moved to break-even\")\n",
        "\n",
        "        # Enter short position at swing high\n",
        "        if not in_position and data['Signal'].iloc[i] == -1:\n",
        "            in_position = True\n",
        "            entry_price = current_price\n",
        "            sl = data['Swing_High'].iloc[i] + sl_pips * pip_value\n",
        "            tp = entry_price - 3 * (sl - entry_price)\n",
        "            position_size = dollar_risk / abs(entry_price - sl)\n",
        "            positions.append((current_date, 'Short', entry_price, sl, tp, position_size))\n",
        "            total_trades += 1\n",
        "            debug_log.append(f\"Entered Short: Entry={entry_price}, SL={sl}, TP={tp}, Size={position_size}\")\n",
        "\n",
        "        # Enter long position at swing low\n",
        "        elif not in_position and data['Signal'].iloc[i] == 1:\n",
        "            in_position = True\n",
        "            entry_price = current_price\n",
        "            sl = data['Swing_Low'].iloc[i] - sl_pips * pip_value\n",
        "            tp = entry_price + 3 * (entry_price - sl)\n",
        "            position_size = dollar_risk / abs(entry_price - sl)\n",
        "            positions.append((current_date, 'Long', entry_price, sl, tp, position_size))\n",
        "            total_trades += 1\n",
        "            debug_log.append(f\"Entered Long: Entry={entry_price}, SL={sl}, TP={tp}, Size={position_size}\")\n",
        "\n",
        "        # Update equity and drawdown\n",
        "        equity_curve.append(balance)\n",
        "        if balance > max_balance:\n",
        "            max_balance = balance\n",
        "        drawdown.append((max_balance - balance) / max_balance)\n",
        "\n",
        "    trades_df = pd.DataFrame(trades, columns=['Symbol', 'Date', 'Type', 'Entry', 'Exit', 'SL', 'TP', 'P/L'])\n",
        "    return equity_curve, drawdown, balance, trades_df, debug_log\n",
        "    # Inside the backtest function\n",
        "\n",
        "\n",
        "# Signal Generation with Debug Logging\n",
        "def generate_signals(data):\n",
        "    order = 20\n",
        "    data['Swing_Low'] = data.iloc[argrelextrema(data['close'].values, np.less_equal, order=order)[0]]['close']\n",
        "    data['Swing_High'] = data.iloc[argrelextrema(data['close'].values, np.greater_equal, order=order)[0]]['close']\n",
        "\n",
        "    # Initialize signal column\n",
        "    data['Signal'] = 0\n",
        "\n",
        "    # Generate signals based on swing highs/lows\n",
        "    for i in range(1, len(data)):\n",
        "        if not np.isnan(data['Swing_High'].iloc[i]):\n",
        "            data.at[data.index[i], 'Signal'] = -1  # Go Short at Swing High\n",
        "        elif not np.isnan(data['Swing_Low'].iloc[i]):\n",
        "            data.at[data.index[i], 'Signal'] = 1  # Go Long at Swing Low\n",
        "\n",
        "    # Debug logs to verify signals\n",
        "    signal_counts = data['Signal'].value_counts()\n",
        "    print(f\"Signals generated: Long = {signal_counts.get(1, 0)}, Short = {signal_counts.get(-1, 0)}\")\n",
        "\n",
        "    return data\n",
        "\n",
        "# Apply signal generation and backtest\n",
        "all_trades = []\n",
        "symbols = ['EUR_GBP', 'EUR_AUD', 'EUR_NZD', 'EUR_CHF', 'EUR_CAD',\n",
        "               'GBP_AUD', 'GBP_NZD', 'GBP_CHF', 'GBP_CAD',\n",
        "               'AUD_NZD', 'AUD_CHF', 'AUD_CAD',\n",
        "               'NZD_CHF', 'NZD_CAD',\n",
        "               'CHF_CAD']\n",
        "final_balances = []\n",
        "for symbol in symbols:\n",
        "    # Fetch historical data\n",
        "    data = fetch_ohlc_data(symbol, granularity='H4', count=5000)\n",
        "\n",
        "    if data is None:\n",
        "        print(f\"Failed to fetch data for {symbol}\")\n",
        "        continue\n",
        "\n",
        "    # Generate signals\n",
        "    data = generate_signals(data)\n",
        "\n",
        "    # Run backtest\n",
        "    initial_balance = 218.08\n",
        "    equity_curve, drawdown, final_balance, trades_df, debug_log = backtest(data, symbol, macro_dates, initial_balance)\n",
        "    final_balances.append(final_balance)\n",
        "    all_trades.append(trades_df)\n",
        "\n",
        "    # Print results for each symbol\n",
        "    print(f'\\nResults for {symbol}:')\n",
        "    print(f'Net Profit/Loss: {final_balance - initial_balance:.2f}')\n",
        "    max_drawdown = max(drawdown) if drawdown else 0\n",
        "    print(f'Max Drawdown: {max_drawdown:.2%}')\n",
        "    print(f'Total Equity: {equity_curve[-1]:.2f}')\n",
        "    print(f'Total Trades: {len(trades_df)}')\n",
        "    print(f'Profitable Trades: {len(trades_df[trades_df[\"P/L\"] > 0])}')\n",
        "    print(f'Losing Trades: {len(trades_df[trades_df[\"P/L\"] <= 0])}')\n",
        "\n",
        "    # Plotting\n",
        "    plt.figure(figsize=(14, 7))\n",
        "\n",
        "    # Plot close price and signals\n",
        "    plt.subplot(2, 1, 1)\n",
        "    plt.plot(data['close'], label='Close Price', alpha=0.5)\n",
        "    plt.scatter(data.index, data['Swing_Low'], color='red', label='Swing Lows')\n",
        "    plt.scatter(data.index, data['Swing_High'], color='green', label='Swing Highs')\n",
        "    plt.plot(data[data['Signal'] == 1].index, data['close'][data['Signal'] == 1], '^', markersize=10, color='g', lw=0, label='Long Signal')\n",
        "    plt.plot(data[data['Signal'] == -1].index, data['close'][data['Signal'] == -1], 'v', markersize=10, color='r', lw=0, label='Short Signal')\n",
        "    plt.title(f'{symbol} Swing High and Low Strategy')\n",
        "    plt.xlabel('Date')\n",
        "    plt.ylabel('Price')\n",
        "    plt.legend()\n",
        "\n",
        "    # Plot equity curve and drawdown\n",
        "    plt.subplot(2, 1, 2)\n",
        "    plt.plot(data.index, equity_curve, label='Equity Curve')\n",
        "    plt.fill_between(data.index, np.array(equity_curve) - np.array(drawdown) * np.array(equity_curve), equity_curve, color='red', alpha=0.3, label='Drawdown')\n",
        "    plt.title(f'Equity Curve and Drawdown for {symbol}')\n",
        "    plt.xlabel('Date')\n",
        "    plt.ylabel('Equity')\n",
        "    plt.legend()\n",
        "\n",
        "    plt.tight_layout()\n",
        "    plt.show()\n",
        "\n",
        "# Concatenate all trades into a single DataFrame and save to CSV\n",
        "all_trades_df = pd.concat(all_trades)\n",
        "all_trades_df.to_csv('all_trades_oanda.csv', index=False)\n",
        "print(\"All trades saved to all_trades_oanda.csv\")\n",
        "\n",
        "# Display combined performance metrics\n",
        "final_metrics = {\n",
        "    'Initial Balance': initial_balance,\n",
        "    'Final Balance': sum(final_balances),\n",
        "    'Net Profit': sum(final_balances) - initial_balance * len(symbols)\n",
        "}\n",
        "\n",
        "print(final_metrics)"
      ]
    },
    {
      "cell_type": "code",
      "source": [],
      "metadata": {
        "id": "KJUHuTAXtrel"
      },
      "execution_count": null,
      "outputs": []
    }
  ]
}