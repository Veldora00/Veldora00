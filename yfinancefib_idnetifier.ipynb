{
  "nbformat": 4,
  "nbformat_minor": 0,
  "metadata": {
    "colab": {
      "provenance": [],
      "authorship_tag": "ABX9TyMvHxov6tyK8cayzEuNrSnr",
      "include_colab_link": true
    },
    "kernelspec": {
      "name": "python3",
      "display_name": "Python 3"
    },
    "language_info": {
      "name": "python"
    }
  },
  "cells": [
    {
      "cell_type": "markdown",
      "metadata": {
        "id": "view-in-github",
        "colab_type": "text"
      },
      "source": [
        "<a href=\"https://colab.research.google.com/github/Veldora00/Veldora00/blob/main/yfinancefib_idnetifier.ipynb\" target=\"_parent\"><img src=\"https://colab.research.google.com/assets/colab-badge.svg\" alt=\"Open In Colab\"/></a>"
      ]
    },
    {
      "cell_type": "code",
      "execution_count": null,
      "metadata": {
        "colab": {
          "base_uri": "https://localhost:8080/"
        },
        "id": "1k2mZSkqNci_",
        "outputId": "b2536c5d-6edf-4693-a688-85b70949ef08"
      },
      "outputs": [
        {
          "output_type": "stream",
          "name": "stdout",
          "text": [
            "Analyzing EURUSD=X...\n"
          ]
        },
        {
          "output_type": "stream",
          "name": "stderr",
          "text": [
            "\r[*********************100%***********************]  1 of 1 completed\n",
            "<ipython-input-1-40dd30f49477>:17: FutureWarning: Series.__getitem__ treating keys as positions is deprecated. In a future version, integer keys will always be treated as labels (consistent with DataFrame behavior). To access a value by position, use `ser.iloc[pos]`\n",
            "  is_pivot_high = all(data['High'][i] > data['High'][i - j] for j in range(1, left + 1)) and \\\n",
            "<ipython-input-1-40dd30f49477>:19: FutureWarning: Series.__getitem__ treating keys as positions is deprecated. In a future version, integer keys will always be treated as labels (consistent with DataFrame behavior). To access a value by position, use `ser.iloc[pos]`\n",
            "  is_pivot_low = all(data['Low'][i] < data['Low'][i - j] for j in range(1, left + 1)) and \\\n",
            "<ipython-input-1-40dd30f49477>:18: FutureWarning: Series.__getitem__ treating keys as positions is deprecated. In a future version, integer keys will always be treated as labels (consistent with DataFrame behavior). To access a value by position, use `ser.iloc[pos]`\n",
            "  all(data['High'][i] > data['High'][i + j] for j in range(1, right + 1))\n",
            "<ipython-input-1-40dd30f49477>:23: FutureWarning: Series.__getitem__ treating keys as positions is deprecated. In a future version, integer keys will always be treated as labels (consistent with DataFrame behavior). To access a value by position, use `ser.iloc[pos]`\n",
            "  pivots_high.append((data.index[i], data['High'][i]))\n",
            "<ipython-input-1-40dd30f49477>:20: FutureWarning: Series.__getitem__ treating keys as positions is deprecated. In a future version, integer keys will always be treated as labels (consistent with DataFrame behavior). To access a value by position, use `ser.iloc[pos]`\n",
            "  all(data['Low'][i] < data['Low'][i + j] for j in range(1, right + 1))\n",
            "<ipython-input-1-40dd30f49477>:25: FutureWarning: Series.__getitem__ treating keys as positions is deprecated. In a future version, integer keys will always be treated as labels (consistent with DataFrame behavior). To access a value by position, use `ser.iloc[pos]`\n",
            "  pivots_low.append((data.index[i], data['Low'][i]))\n"
          ]
        },
        {
          "output_type": "stream",
          "name": "stdout",
          "text": [
            "Analyzing GBPUSD=X...\n"
          ]
        },
        {
          "output_type": "stream",
          "name": "stderr",
          "text": [
            "\r[*********************100%***********************]  1 of 1 completed\n",
            "<ipython-input-1-40dd30f49477>:17: FutureWarning: Series.__getitem__ treating keys as positions is deprecated. In a future version, integer keys will always be treated as labels (consistent with DataFrame behavior). To access a value by position, use `ser.iloc[pos]`\n",
            "  is_pivot_high = all(data['High'][i] > data['High'][i - j] for j in range(1, left + 1)) and \\\n",
            "<ipython-input-1-40dd30f49477>:19: FutureWarning: Series.__getitem__ treating keys as positions is deprecated. In a future version, integer keys will always be treated as labels (consistent with DataFrame behavior). To access a value by position, use `ser.iloc[pos]`\n",
            "  is_pivot_low = all(data['Low'][i] < data['Low'][i - j] for j in range(1, left + 1)) and \\\n",
            "<ipython-input-1-40dd30f49477>:20: FutureWarning: Series.__getitem__ treating keys as positions is deprecated. In a future version, integer keys will always be treated as labels (consistent with DataFrame behavior). To access a value by position, use `ser.iloc[pos]`\n",
            "  all(data['Low'][i] < data['Low'][i + j] for j in range(1, right + 1))\n",
            "<ipython-input-1-40dd30f49477>:25: FutureWarning: Series.__getitem__ treating keys as positions is deprecated. In a future version, integer keys will always be treated as labels (consistent with DataFrame behavior). To access a value by position, use `ser.iloc[pos]`\n",
            "  pivots_low.append((data.index[i], data['Low'][i]))\n",
            "<ipython-input-1-40dd30f49477>:18: FutureWarning: Series.__getitem__ treating keys as positions is deprecated. In a future version, integer keys will always be treated as labels (consistent with DataFrame behavior). To access a value by position, use `ser.iloc[pos]`\n",
            "  all(data['High'][i] > data['High'][i + j] for j in range(1, right + 1))\n",
            "<ipython-input-1-40dd30f49477>:23: FutureWarning: Series.__getitem__ treating keys as positions is deprecated. In a future version, integer keys will always be treated as labels (consistent with DataFrame behavior). To access a value by position, use `ser.iloc[pos]`\n",
            "  pivots_high.append((data.index[i], data['High'][i]))\n"
          ]
        },
        {
          "output_type": "stream",
          "name": "stdout",
          "text": [
            "Analyzing AUDUSD=X...\n"
          ]
        },
        {
          "output_type": "stream",
          "name": "stderr",
          "text": [
            "\r[*********************100%***********************]  1 of 1 completed\n",
            "<ipython-input-1-40dd30f49477>:17: FutureWarning: Series.__getitem__ treating keys as positions is deprecated. In a future version, integer keys will always be treated as labels (consistent with DataFrame behavior). To access a value by position, use `ser.iloc[pos]`\n",
            "  is_pivot_high = all(data['High'][i] > data['High'][i - j] for j in range(1, left + 1)) and \\\n",
            "<ipython-input-1-40dd30f49477>:19: FutureWarning: Series.__getitem__ treating keys as positions is deprecated. In a future version, integer keys will always be treated as labels (consistent with DataFrame behavior). To access a value by position, use `ser.iloc[pos]`\n",
            "  is_pivot_low = all(data['Low'][i] < data['Low'][i - j] for j in range(1, left + 1)) and \\\n",
            "<ipython-input-1-40dd30f49477>:18: FutureWarning: Series.__getitem__ treating keys as positions is deprecated. In a future version, integer keys will always be treated as labels (consistent with DataFrame behavior). To access a value by position, use `ser.iloc[pos]`\n",
            "  all(data['High'][i] > data['High'][i + j] for j in range(1, right + 1))\n",
            "<ipython-input-1-40dd30f49477>:23: FutureWarning: Series.__getitem__ treating keys as positions is deprecated. In a future version, integer keys will always be treated as labels (consistent with DataFrame behavior). To access a value by position, use `ser.iloc[pos]`\n",
            "  pivots_high.append((data.index[i], data['High'][i]))\n",
            "<ipython-input-1-40dd30f49477>:20: FutureWarning: Series.__getitem__ treating keys as positions is deprecated. In a future version, integer keys will always be treated as labels (consistent with DataFrame behavior). To access a value by position, use `ser.iloc[pos]`\n",
            "  all(data['Low'][i] < data['Low'][i + j] for j in range(1, right + 1))\n",
            "<ipython-input-1-40dd30f49477>:25: FutureWarning: Series.__getitem__ treating keys as positions is deprecated. In a future version, integer keys will always be treated as labels (consistent with DataFrame behavior). To access a value by position, use `ser.iloc[pos]`\n",
            "  pivots_low.append((data.index[i], data['Low'][i]))\n"
          ]
        },
        {
          "output_type": "stream",
          "name": "stdout",
          "text": [
            "Analyzing NZDUSD=X...\n"
          ]
        },
        {
          "output_type": "stream",
          "name": "stderr",
          "text": [
            "\r[*********************100%***********************]  1 of 1 completed\n",
            "<ipython-input-1-40dd30f49477>:17: FutureWarning: Series.__getitem__ treating keys as positions is deprecated. In a future version, integer keys will always be treated as labels (consistent with DataFrame behavior). To access a value by position, use `ser.iloc[pos]`\n",
            "  is_pivot_high = all(data['High'][i] > data['High'][i - j] for j in range(1, left + 1)) and \\\n",
            "<ipython-input-1-40dd30f49477>:19: FutureWarning: Series.__getitem__ treating keys as positions is deprecated. In a future version, integer keys will always be treated as labels (consistent with DataFrame behavior). To access a value by position, use `ser.iloc[pos]`\n",
            "  is_pivot_low = all(data['Low'][i] < data['Low'][i - j] for j in range(1, left + 1)) and \\\n",
            "<ipython-input-1-40dd30f49477>:18: FutureWarning: Series.__getitem__ treating keys as positions is deprecated. In a future version, integer keys will always be treated as labels (consistent with DataFrame behavior). To access a value by position, use `ser.iloc[pos]`\n",
            "  all(data['High'][i] > data['High'][i + j] for j in range(1, right + 1))\n",
            "<ipython-input-1-40dd30f49477>:23: FutureWarning: Series.__getitem__ treating keys as positions is deprecated. In a future version, integer keys will always be treated as labels (consistent with DataFrame behavior). To access a value by position, use `ser.iloc[pos]`\n",
            "  pivots_high.append((data.index[i], data['High'][i]))\n",
            "<ipython-input-1-40dd30f49477>:20: FutureWarning: Series.__getitem__ treating keys as positions is deprecated. In a future version, integer keys will always be treated as labels (consistent with DataFrame behavior). To access a value by position, use `ser.iloc[pos]`\n",
            "  all(data['Low'][i] < data['Low'][i + j] for j in range(1, right + 1))\n",
            "<ipython-input-1-40dd30f49477>:25: FutureWarning: Series.__getitem__ treating keys as positions is deprecated. In a future version, integer keys will always be treated as labels (consistent with DataFrame behavior). To access a value by position, use `ser.iloc[pos]`\n",
            "  pivots_low.append((data.index[i], data['Low'][i]))\n"
          ]
        },
        {
          "output_type": "stream",
          "name": "stdout",
          "text": [
            "Analyzing USDCHF=X...\n"
          ]
        },
        {
          "output_type": "stream",
          "name": "stderr",
          "text": [
            "\r[*********************100%***********************]  1 of 1 completed\n",
            "<ipython-input-1-40dd30f49477>:17: FutureWarning: Series.__getitem__ treating keys as positions is deprecated. In a future version, integer keys will always be treated as labels (consistent with DataFrame behavior). To access a value by position, use `ser.iloc[pos]`\n",
            "  is_pivot_high = all(data['High'][i] > data['High'][i - j] for j in range(1, left + 1)) and \\\n",
            "<ipython-input-1-40dd30f49477>:19: FutureWarning: Series.__getitem__ treating keys as positions is deprecated. In a future version, integer keys will always be treated as labels (consistent with DataFrame behavior). To access a value by position, use `ser.iloc[pos]`\n",
            "  is_pivot_low = all(data['Low'][i] < data['Low'][i - j] for j in range(1, left + 1)) and \\\n",
            "<ipython-input-1-40dd30f49477>:20: FutureWarning: Series.__getitem__ treating keys as positions is deprecated. In a future version, integer keys will always be treated as labels (consistent with DataFrame behavior). To access a value by position, use `ser.iloc[pos]`\n",
            "  all(data['Low'][i] < data['Low'][i + j] for j in range(1, right + 1))\n",
            "<ipython-input-1-40dd30f49477>:25: FutureWarning: Series.__getitem__ treating keys as positions is deprecated. In a future version, integer keys will always be treated as labels (consistent with DataFrame behavior). To access a value by position, use `ser.iloc[pos]`\n",
            "  pivots_low.append((data.index[i], data['Low'][i]))\n",
            "<ipython-input-1-40dd30f49477>:18: FutureWarning: Series.__getitem__ treating keys as positions is deprecated. In a future version, integer keys will always be treated as labels (consistent with DataFrame behavior). To access a value by position, use `ser.iloc[pos]`\n",
            "  all(data['High'][i] > data['High'][i + j] for j in range(1, right + 1))\n",
            "<ipython-input-1-40dd30f49477>:23: FutureWarning: Series.__getitem__ treating keys as positions is deprecated. In a future version, integer keys will always be treated as labels (consistent with DataFrame behavior). To access a value by position, use `ser.iloc[pos]`\n",
            "  pivots_high.append((data.index[i], data['High'][i]))\n"
          ]
        },
        {
          "output_type": "stream",
          "name": "stdout",
          "text": [
            "Analyzing USDCAD=X...\n"
          ]
        },
        {
          "output_type": "stream",
          "name": "stderr",
          "text": [
            "\r[*********************100%***********************]  1 of 1 completed\n",
            "<ipython-input-1-40dd30f49477>:17: FutureWarning: Series.__getitem__ treating keys as positions is deprecated. In a future version, integer keys will always be treated as labels (consistent with DataFrame behavior). To access a value by position, use `ser.iloc[pos]`\n",
            "  is_pivot_high = all(data['High'][i] > data['High'][i - j] for j in range(1, left + 1)) and \\\n",
            "<ipython-input-1-40dd30f49477>:19: FutureWarning: Series.__getitem__ treating keys as positions is deprecated. In a future version, integer keys will always be treated as labels (consistent with DataFrame behavior). To access a value by position, use `ser.iloc[pos]`\n",
            "  is_pivot_low = all(data['Low'][i] < data['Low'][i - j] for j in range(1, left + 1)) and \\\n",
            "<ipython-input-1-40dd30f49477>:20: FutureWarning: Series.__getitem__ treating keys as positions is deprecated. In a future version, integer keys will always be treated as labels (consistent with DataFrame behavior). To access a value by position, use `ser.iloc[pos]`\n",
            "  all(data['Low'][i] < data['Low'][i + j] for j in range(1, right + 1))\n",
            "<ipython-input-1-40dd30f49477>:25: FutureWarning: Series.__getitem__ treating keys as positions is deprecated. In a future version, integer keys will always be treated as labels (consistent with DataFrame behavior). To access a value by position, use `ser.iloc[pos]`\n",
            "  pivots_low.append((data.index[i], data['Low'][i]))\n",
            "<ipython-input-1-40dd30f49477>:18: FutureWarning: Series.__getitem__ treating keys as positions is deprecated. In a future version, integer keys will always be treated as labels (consistent with DataFrame behavior). To access a value by position, use `ser.iloc[pos]`\n",
            "  all(data['High'][i] > data['High'][i + j] for j in range(1, right + 1))\n",
            "<ipython-input-1-40dd30f49477>:23: FutureWarning: Series.__getitem__ treating keys as positions is deprecated. In a future version, integer keys will always be treated as labels (consistent with DataFrame behavior). To access a value by position, use `ser.iloc[pos]`\n",
            "  pivots_high.append((data.index[i], data['High'][i]))\n"
          ]
        },
        {
          "output_type": "stream",
          "name": "stdout",
          "text": [
            "Analyzing EURGBP=X...\n"
          ]
        },
        {
          "output_type": "stream",
          "name": "stderr",
          "text": [
            "\r[*********************100%***********************]  1 of 1 completed\n",
            "<ipython-input-1-40dd30f49477>:17: FutureWarning: Series.__getitem__ treating keys as positions is deprecated. In a future version, integer keys will always be treated as labels (consistent with DataFrame behavior). To access a value by position, use `ser.iloc[pos]`\n",
            "  is_pivot_high = all(data['High'][i] > data['High'][i - j] for j in range(1, left + 1)) and \\\n",
            "<ipython-input-1-40dd30f49477>:19: FutureWarning: Series.__getitem__ treating keys as positions is deprecated. In a future version, integer keys will always be treated as labels (consistent with DataFrame behavior). To access a value by position, use `ser.iloc[pos]`\n",
            "  is_pivot_low = all(data['Low'][i] < data['Low'][i - j] for j in range(1, left + 1)) and \\\n",
            "<ipython-input-1-40dd30f49477>:18: FutureWarning: Series.__getitem__ treating keys as positions is deprecated. In a future version, integer keys will always be treated as labels (consistent with DataFrame behavior). To access a value by position, use `ser.iloc[pos]`\n",
            "  all(data['High'][i] > data['High'][i + j] for j in range(1, right + 1))\n",
            "<ipython-input-1-40dd30f49477>:23: FutureWarning: Series.__getitem__ treating keys as positions is deprecated. In a future version, integer keys will always be treated as labels (consistent with DataFrame behavior). To access a value by position, use `ser.iloc[pos]`\n",
            "  pivots_high.append((data.index[i], data['High'][i]))\n",
            "<ipython-input-1-40dd30f49477>:20: FutureWarning: Series.__getitem__ treating keys as positions is deprecated. In a future version, integer keys will always be treated as labels (consistent with DataFrame behavior). To access a value by position, use `ser.iloc[pos]`\n",
            "  all(data['Low'][i] < data['Low'][i + j] for j in range(1, right + 1))\n",
            "<ipython-input-1-40dd30f49477>:25: FutureWarning: Series.__getitem__ treating keys as positions is deprecated. In a future version, integer keys will always be treated as labels (consistent with DataFrame behavior). To access a value by position, use `ser.iloc[pos]`\n",
            "  pivots_low.append((data.index[i], data['Low'][i]))\n"
          ]
        },
        {
          "output_type": "stream",
          "name": "stdout",
          "text": [
            "Analyzing EURCHF=X...\n"
          ]
        },
        {
          "output_type": "stream",
          "name": "stderr",
          "text": [
            "\r[*********************100%***********************]  1 of 1 completed\n",
            "<ipython-input-1-40dd30f49477>:17: FutureWarning: Series.__getitem__ treating keys as positions is deprecated. In a future version, integer keys will always be treated as labels (consistent with DataFrame behavior). To access a value by position, use `ser.iloc[pos]`\n",
            "  is_pivot_high = all(data['High'][i] > data['High'][i - j] for j in range(1, left + 1)) and \\\n",
            "<ipython-input-1-40dd30f49477>:19: FutureWarning: Series.__getitem__ treating keys as positions is deprecated. In a future version, integer keys will always be treated as labels (consistent with DataFrame behavior). To access a value by position, use `ser.iloc[pos]`\n",
            "  is_pivot_low = all(data['Low'][i] < data['Low'][i - j] for j in range(1, left + 1)) and \\\n",
            "<ipython-input-1-40dd30f49477>:20: FutureWarning: Series.__getitem__ treating keys as positions is deprecated. In a future version, integer keys will always be treated as labels (consistent with DataFrame behavior). To access a value by position, use `ser.iloc[pos]`\n",
            "  all(data['Low'][i] < data['Low'][i + j] for j in range(1, right + 1))\n",
            "<ipython-input-1-40dd30f49477>:25: FutureWarning: Series.__getitem__ treating keys as positions is deprecated. In a future version, integer keys will always be treated as labels (consistent with DataFrame behavior). To access a value by position, use `ser.iloc[pos]`\n",
            "  pivots_low.append((data.index[i], data['Low'][i]))\n",
            "<ipython-input-1-40dd30f49477>:18: FutureWarning: Series.__getitem__ treating keys as positions is deprecated. In a future version, integer keys will always be treated as labels (consistent with DataFrame behavior). To access a value by position, use `ser.iloc[pos]`\n",
            "  all(data['High'][i] > data['High'][i + j] for j in range(1, right + 1))\n",
            "<ipython-input-1-40dd30f49477>:23: FutureWarning: Series.__getitem__ treating keys as positions is deprecated. In a future version, integer keys will always be treated as labels (consistent with DataFrame behavior). To access a value by position, use `ser.iloc[pos]`\n",
            "  pivots_high.append((data.index[i], data['High'][i]))\n"
          ]
        },
        {
          "output_type": "stream",
          "name": "stdout",
          "text": [
            "Analyzing EURAUD=X...\n"
          ]
        },
        {
          "output_type": "stream",
          "name": "stderr",
          "text": [
            "\r[*********************100%***********************]  1 of 1 completed\n",
            "<ipython-input-1-40dd30f49477>:17: FutureWarning: Series.__getitem__ treating keys as positions is deprecated. In a future version, integer keys will always be treated as labels (consistent with DataFrame behavior). To access a value by position, use `ser.iloc[pos]`\n",
            "  is_pivot_high = all(data['High'][i] > data['High'][i - j] for j in range(1, left + 1)) and \\\n",
            "<ipython-input-1-40dd30f49477>:19: FutureWarning: Series.__getitem__ treating keys as positions is deprecated. In a future version, integer keys will always be treated as labels (consistent with DataFrame behavior). To access a value by position, use `ser.iloc[pos]`\n",
            "  is_pivot_low = all(data['Low'][i] < data['Low'][i - j] for j in range(1, left + 1)) and \\\n",
            "<ipython-input-1-40dd30f49477>:18: FutureWarning: Series.__getitem__ treating keys as positions is deprecated. In a future version, integer keys will always be treated as labels (consistent with DataFrame behavior). To access a value by position, use `ser.iloc[pos]`\n",
            "  all(data['High'][i] > data['High'][i + j] for j in range(1, right + 1))\n",
            "<ipython-input-1-40dd30f49477>:23: FutureWarning: Series.__getitem__ treating keys as positions is deprecated. In a future version, integer keys will always be treated as labels (consistent with DataFrame behavior). To access a value by position, use `ser.iloc[pos]`\n",
            "  pivots_high.append((data.index[i], data['High'][i]))\n",
            "<ipython-input-1-40dd30f49477>:20: FutureWarning: Series.__getitem__ treating keys as positions is deprecated. In a future version, integer keys will always be treated as labels (consistent with DataFrame behavior). To access a value by position, use `ser.iloc[pos]`\n",
            "  all(data['Low'][i] < data['Low'][i + j] for j in range(1, right + 1))\n",
            "<ipython-input-1-40dd30f49477>:25: FutureWarning: Series.__getitem__ treating keys as positions is deprecated. In a future version, integer keys will always be treated as labels (consistent with DataFrame behavior). To access a value by position, use `ser.iloc[pos]`\n",
            "  pivots_low.append((data.index[i], data['Low'][i]))\n"
          ]
        },
        {
          "output_type": "stream",
          "name": "stdout",
          "text": [
            "Analyzing EURNZD=X...\n"
          ]
        },
        {
          "output_type": "stream",
          "name": "stderr",
          "text": [
            "\r[*********************100%***********************]  1 of 1 completed\n",
            "<ipython-input-1-40dd30f49477>:17: FutureWarning: Series.__getitem__ treating keys as positions is deprecated. In a future version, integer keys will always be treated as labels (consistent with DataFrame behavior). To access a value by position, use `ser.iloc[pos]`\n",
            "  is_pivot_high = all(data['High'][i] > data['High'][i - j] for j in range(1, left + 1)) and \\\n",
            "<ipython-input-1-40dd30f49477>:19: FutureWarning: Series.__getitem__ treating keys as positions is deprecated. In a future version, integer keys will always be treated as labels (consistent with DataFrame behavior). To access a value by position, use `ser.iloc[pos]`\n",
            "  is_pivot_low = all(data['Low'][i] < data['Low'][i - j] for j in range(1, left + 1)) and \\\n",
            "<ipython-input-1-40dd30f49477>:18: FutureWarning: Series.__getitem__ treating keys as positions is deprecated. In a future version, integer keys will always be treated as labels (consistent with DataFrame behavior). To access a value by position, use `ser.iloc[pos]`\n",
            "  all(data['High'][i] > data['High'][i + j] for j in range(1, right + 1))\n",
            "<ipython-input-1-40dd30f49477>:23: FutureWarning: Series.__getitem__ treating keys as positions is deprecated. In a future version, integer keys will always be treated as labels (consistent with DataFrame behavior). To access a value by position, use `ser.iloc[pos]`\n",
            "  pivots_high.append((data.index[i], data['High'][i]))\n",
            "<ipython-input-1-40dd30f49477>:20: FutureWarning: Series.__getitem__ treating keys as positions is deprecated. In a future version, integer keys will always be treated as labels (consistent with DataFrame behavior). To access a value by position, use `ser.iloc[pos]`\n",
            "  all(data['Low'][i] < data['Low'][i + j] for j in range(1, right + 1))\n",
            "<ipython-input-1-40dd30f49477>:25: FutureWarning: Series.__getitem__ treating keys as positions is deprecated. In a future version, integer keys will always be treated as labels (consistent with DataFrame behavior). To access a value by position, use `ser.iloc[pos]`\n",
            "  pivots_low.append((data.index[i], data['Low'][i]))\n"
          ]
        },
        {
          "output_type": "stream",
          "name": "stdout",
          "text": [
            "Analyzing EURCAD=X...\n"
          ]
        },
        {
          "output_type": "stream",
          "name": "stderr",
          "text": [
            "\r[*********************100%***********************]  1 of 1 completed\n",
            "<ipython-input-1-40dd30f49477>:17: FutureWarning: Series.__getitem__ treating keys as positions is deprecated. In a future version, integer keys will always be treated as labels (consistent with DataFrame behavior). To access a value by position, use `ser.iloc[pos]`\n",
            "  is_pivot_high = all(data['High'][i] > data['High'][i - j] for j in range(1, left + 1)) and \\\n",
            "<ipython-input-1-40dd30f49477>:19: FutureWarning: Series.__getitem__ treating keys as positions is deprecated. In a future version, integer keys will always be treated as labels (consistent with DataFrame behavior). To access a value by position, use `ser.iloc[pos]`\n",
            "  is_pivot_low = all(data['Low'][i] < data['Low'][i - j] for j in range(1, left + 1)) and \\\n",
            "<ipython-input-1-40dd30f49477>:18: FutureWarning: Series.__getitem__ treating keys as positions is deprecated. In a future version, integer keys will always be treated as labels (consistent with DataFrame behavior). To access a value by position, use `ser.iloc[pos]`\n",
            "  all(data['High'][i] > data['High'][i + j] for j in range(1, right + 1))\n",
            "<ipython-input-1-40dd30f49477>:23: FutureWarning: Series.__getitem__ treating keys as positions is deprecated. In a future version, integer keys will always be treated as labels (consistent with DataFrame behavior). To access a value by position, use `ser.iloc[pos]`\n",
            "  pivots_high.append((data.index[i], data['High'][i]))\n",
            "<ipython-input-1-40dd30f49477>:20: FutureWarning: Series.__getitem__ treating keys as positions is deprecated. In a future version, integer keys will always be treated as labels (consistent with DataFrame behavior). To access a value by position, use `ser.iloc[pos]`\n",
            "  all(data['Low'][i] < data['Low'][i + j] for j in range(1, right + 1))\n",
            "<ipython-input-1-40dd30f49477>:25: FutureWarning: Series.__getitem__ treating keys as positions is deprecated. In a future version, integer keys will always be treated as labels (consistent with DataFrame behavior). To access a value by position, use `ser.iloc[pos]`\n",
            "  pivots_low.append((data.index[i], data['Low'][i]))\n",
            "[*********************100%***********************]  1 of 1 completed"
          ]
        },
        {
          "output_type": "stream",
          "name": "stdout",
          "text": [
            "Analyzing EURJPY=X...\n"
          ]
        },
        {
          "output_type": "stream",
          "name": "stderr",
          "text": [
            "\n",
            "<ipython-input-1-40dd30f49477>:17: FutureWarning: Series.__getitem__ treating keys as positions is deprecated. In a future version, integer keys will always be treated as labels (consistent with DataFrame behavior). To access a value by position, use `ser.iloc[pos]`\n",
            "  is_pivot_high = all(data['High'][i] > data['High'][i - j] for j in range(1, left + 1)) and \\\n",
            "<ipython-input-1-40dd30f49477>:19: FutureWarning: Series.__getitem__ treating keys as positions is deprecated. In a future version, integer keys will always be treated as labels (consistent with DataFrame behavior). To access a value by position, use `ser.iloc[pos]`\n",
            "  is_pivot_low = all(data['Low'][i] < data['Low'][i - j] for j in range(1, left + 1)) and \\\n",
            "<ipython-input-1-40dd30f49477>:18: FutureWarning: Series.__getitem__ treating keys as positions is deprecated. In a future version, integer keys will always be treated as labels (consistent with DataFrame behavior). To access a value by position, use `ser.iloc[pos]`\n",
            "  all(data['High'][i] > data['High'][i + j] for j in range(1, right + 1))\n",
            "<ipython-input-1-40dd30f49477>:23: FutureWarning: Series.__getitem__ treating keys as positions is deprecated. In a future version, integer keys will always be treated as labels (consistent with DataFrame behavior). To access a value by position, use `ser.iloc[pos]`\n",
            "  pivots_high.append((data.index[i], data['High'][i]))\n",
            "<ipython-input-1-40dd30f49477>:20: FutureWarning: Series.__getitem__ treating keys as positions is deprecated. In a future version, integer keys will always be treated as labels (consistent with DataFrame behavior). To access a value by position, use `ser.iloc[pos]`\n",
            "  all(data['Low'][i] < data['Low'][i + j] for j in range(1, right + 1))\n",
            "<ipython-input-1-40dd30f49477>:25: FutureWarning: Series.__getitem__ treating keys as positions is deprecated. In a future version, integer keys will always be treated as labels (consistent with DataFrame behavior). To access a value by position, use `ser.iloc[pos]`\n",
            "  pivots_low.append((data.index[i], data['Low'][i]))\n"
          ]
        },
        {
          "output_type": "stream",
          "name": "stdout",
          "text": [
            "Analyzing GBPJPY=X...\n"
          ]
        },
        {
          "output_type": "stream",
          "name": "stderr",
          "text": [
            "\r[*********************100%***********************]  1 of 1 completed\n",
            "<ipython-input-1-40dd30f49477>:17: FutureWarning: Series.__getitem__ treating keys as positions is deprecated. In a future version, integer keys will always be treated as labels (consistent with DataFrame behavior). To access a value by position, use `ser.iloc[pos]`\n",
            "  is_pivot_high = all(data['High'][i] > data['High'][i - j] for j in range(1, left + 1)) and \\\n",
            "<ipython-input-1-40dd30f49477>:19: FutureWarning: Series.__getitem__ treating keys as positions is deprecated. In a future version, integer keys will always be treated as labels (consistent with DataFrame behavior). To access a value by position, use `ser.iloc[pos]`\n",
            "  is_pivot_low = all(data['Low'][i] < data['Low'][i - j] for j in range(1, left + 1)) and \\\n",
            "<ipython-input-1-40dd30f49477>:18: FutureWarning: Series.__getitem__ treating keys as positions is deprecated. In a future version, integer keys will always be treated as labels (consistent with DataFrame behavior). To access a value by position, use `ser.iloc[pos]`\n",
            "  all(data['High'][i] > data['High'][i + j] for j in range(1, right + 1))\n",
            "<ipython-input-1-40dd30f49477>:23: FutureWarning: Series.__getitem__ treating keys as positions is deprecated. In a future version, integer keys will always be treated as labels (consistent with DataFrame behavior). To access a value by position, use `ser.iloc[pos]`\n",
            "  pivots_high.append((data.index[i], data['High'][i]))\n",
            "<ipython-input-1-40dd30f49477>:20: FutureWarning: Series.__getitem__ treating keys as positions is deprecated. In a future version, integer keys will always be treated as labels (consistent with DataFrame behavior). To access a value by position, use `ser.iloc[pos]`\n",
            "  all(data['Low'][i] < data['Low'][i + j] for j in range(1, right + 1))\n",
            "<ipython-input-1-40dd30f49477>:25: FutureWarning: Series.__getitem__ treating keys as positions is deprecated. In a future version, integer keys will always be treated as labels (consistent with DataFrame behavior). To access a value by position, use `ser.iloc[pos]`\n",
            "  pivots_low.append((data.index[i], data['Low'][i]))\n",
            "[*********************100%***********************]  1 of 1 completed"
          ]
        },
        {
          "output_type": "stream",
          "name": "stdout",
          "text": [
            "Analyzing GBPCHF=X...\n"
          ]
        },
        {
          "output_type": "stream",
          "name": "stderr",
          "text": [
            "\n",
            "<ipython-input-1-40dd30f49477>:17: FutureWarning: Series.__getitem__ treating keys as positions is deprecated. In a future version, integer keys will always be treated as labels (consistent with DataFrame behavior). To access a value by position, use `ser.iloc[pos]`\n",
            "  is_pivot_high = all(data['High'][i] > data['High'][i - j] for j in range(1, left + 1)) and \\\n",
            "<ipython-input-1-40dd30f49477>:18: FutureWarning: Series.__getitem__ treating keys as positions is deprecated. In a future version, integer keys will always be treated as labels (consistent with DataFrame behavior). To access a value by position, use `ser.iloc[pos]`\n",
            "  all(data['High'][i] > data['High'][i + j] for j in range(1, right + 1))\n",
            "<ipython-input-1-40dd30f49477>:19: FutureWarning: Series.__getitem__ treating keys as positions is deprecated. In a future version, integer keys will always be treated as labels (consistent with DataFrame behavior). To access a value by position, use `ser.iloc[pos]`\n",
            "  is_pivot_low = all(data['Low'][i] < data['Low'][i - j] for j in range(1, left + 1)) and \\\n",
            "<ipython-input-1-40dd30f49477>:23: FutureWarning: Series.__getitem__ treating keys as positions is deprecated. In a future version, integer keys will always be treated as labels (consistent with DataFrame behavior). To access a value by position, use `ser.iloc[pos]`\n",
            "  pivots_high.append((data.index[i], data['High'][i]))\n",
            "<ipython-input-1-40dd30f49477>:20: FutureWarning: Series.__getitem__ treating keys as positions is deprecated. In a future version, integer keys will always be treated as labels (consistent with DataFrame behavior). To access a value by position, use `ser.iloc[pos]`\n",
            "  all(data['Low'][i] < data['Low'][i + j] for j in range(1, right + 1))\n",
            "<ipython-input-1-40dd30f49477>:25: FutureWarning: Series.__getitem__ treating keys as positions is deprecated. In a future version, integer keys will always be treated as labels (consistent with DataFrame behavior). To access a value by position, use `ser.iloc[pos]`\n",
            "  pivots_low.append((data.index[i], data['Low'][i]))\n"
          ]
        },
        {
          "output_type": "stream",
          "name": "stdout",
          "text": [
            "Analyzing GBPAUD=X...\n"
          ]
        },
        {
          "output_type": "stream",
          "name": "stderr",
          "text": [
            "\r[*********************100%***********************]  1 of 1 completed\n",
            "<ipython-input-1-40dd30f49477>:17: FutureWarning: Series.__getitem__ treating keys as positions is deprecated. In a future version, integer keys will always be treated as labels (consistent with DataFrame behavior). To access a value by position, use `ser.iloc[pos]`\n",
            "  is_pivot_high = all(data['High'][i] > data['High'][i - j] for j in range(1, left + 1)) and \\\n",
            "<ipython-input-1-40dd30f49477>:19: FutureWarning: Series.__getitem__ treating keys as positions is deprecated. In a future version, integer keys will always be treated as labels (consistent with DataFrame behavior). To access a value by position, use `ser.iloc[pos]`\n",
            "  is_pivot_low = all(data['Low'][i] < data['Low'][i - j] for j in range(1, left + 1)) and \\\n",
            "<ipython-input-1-40dd30f49477>:20: FutureWarning: Series.__getitem__ treating keys as positions is deprecated. In a future version, integer keys will always be treated as labels (consistent with DataFrame behavior). To access a value by position, use `ser.iloc[pos]`\n",
            "  all(data['Low'][i] < data['Low'][i + j] for j in range(1, right + 1))\n",
            "<ipython-input-1-40dd30f49477>:25: FutureWarning: Series.__getitem__ treating keys as positions is deprecated. In a future version, integer keys will always be treated as labels (consistent with DataFrame behavior). To access a value by position, use `ser.iloc[pos]`\n",
            "  pivots_low.append((data.index[i], data['Low'][i]))\n",
            "<ipython-input-1-40dd30f49477>:18: FutureWarning: Series.__getitem__ treating keys as positions is deprecated. In a future version, integer keys will always be treated as labels (consistent with DataFrame behavior). To access a value by position, use `ser.iloc[pos]`\n",
            "  all(data['High'][i] > data['High'][i + j] for j in range(1, right + 1))\n",
            "<ipython-input-1-40dd30f49477>:23: FutureWarning: Series.__getitem__ treating keys as positions is deprecated. In a future version, integer keys will always be treated as labels (consistent with DataFrame behavior). To access a value by position, use `ser.iloc[pos]`\n",
            "  pivots_high.append((data.index[i], data['High'][i]))\n"
          ]
        },
        {
          "output_type": "stream",
          "name": "stdout",
          "text": [
            "Analyzing GBPNZD=X...\n"
          ]
        },
        {
          "output_type": "stream",
          "name": "stderr",
          "text": [
            "\r[*********************100%***********************]  1 of 1 completed\n",
            "<ipython-input-1-40dd30f49477>:17: FutureWarning: Series.__getitem__ treating keys as positions is deprecated. In a future version, integer keys will always be treated as labels (consistent with DataFrame behavior). To access a value by position, use `ser.iloc[pos]`\n",
            "  is_pivot_high = all(data['High'][i] > data['High'][i - j] for j in range(1, left + 1)) and \\\n",
            "<ipython-input-1-40dd30f49477>:19: FutureWarning: Series.__getitem__ treating keys as positions is deprecated. In a future version, integer keys will always be treated as labels (consistent with DataFrame behavior). To access a value by position, use `ser.iloc[pos]`\n",
            "  is_pivot_low = all(data['Low'][i] < data['Low'][i - j] for j in range(1, left + 1)) and \\\n",
            "<ipython-input-1-40dd30f49477>:20: FutureWarning: Series.__getitem__ treating keys as positions is deprecated. In a future version, integer keys will always be treated as labels (consistent with DataFrame behavior). To access a value by position, use `ser.iloc[pos]`\n",
            "  all(data['Low'][i] < data['Low'][i + j] for j in range(1, right + 1))\n",
            "<ipython-input-1-40dd30f49477>:25: FutureWarning: Series.__getitem__ treating keys as positions is deprecated. In a future version, integer keys will always be treated as labels (consistent with DataFrame behavior). To access a value by position, use `ser.iloc[pos]`\n",
            "  pivots_low.append((data.index[i], data['Low'][i]))\n",
            "<ipython-input-1-40dd30f49477>:18: FutureWarning: Series.__getitem__ treating keys as positions is deprecated. In a future version, integer keys will always be treated as labels (consistent with DataFrame behavior). To access a value by position, use `ser.iloc[pos]`\n",
            "  all(data['High'][i] > data['High'][i + j] for j in range(1, right + 1))\n",
            "<ipython-input-1-40dd30f49477>:23: FutureWarning: Series.__getitem__ treating keys as positions is deprecated. In a future version, integer keys will always be treated as labels (consistent with DataFrame behavior). To access a value by position, use `ser.iloc[pos]`\n",
            "  pivots_high.append((data.index[i], data['High'][i]))\n",
            "[*********************100%***********************]  1 of 1 completed"
          ]
        },
        {
          "output_type": "stream",
          "name": "stdout",
          "text": [
            "Analyzing GBPCAD=X...\n"
          ]
        },
        {
          "output_type": "stream",
          "name": "stderr",
          "text": [
            "\n",
            "<ipython-input-1-40dd30f49477>:17: FutureWarning: Series.__getitem__ treating keys as positions is deprecated. In a future version, integer keys will always be treated as labels (consistent with DataFrame behavior). To access a value by position, use `ser.iloc[pos]`\n",
            "  is_pivot_high = all(data['High'][i] > data['High'][i - j] for j in range(1, left + 1)) and \\\n",
            "<ipython-input-1-40dd30f49477>:19: FutureWarning: Series.__getitem__ treating keys as positions is deprecated. In a future version, integer keys will always be treated as labels (consistent with DataFrame behavior). To access a value by position, use `ser.iloc[pos]`\n",
            "  is_pivot_low = all(data['Low'][i] < data['Low'][i - j] for j in range(1, left + 1)) and \\\n",
            "<ipython-input-1-40dd30f49477>:20: FutureWarning: Series.__getitem__ treating keys as positions is deprecated. In a future version, integer keys will always be treated as labels (consistent with DataFrame behavior). To access a value by position, use `ser.iloc[pos]`\n",
            "  all(data['Low'][i] < data['Low'][i + j] for j in range(1, right + 1))\n",
            "<ipython-input-1-40dd30f49477>:25: FutureWarning: Series.__getitem__ treating keys as positions is deprecated. In a future version, integer keys will always be treated as labels (consistent with DataFrame behavior). To access a value by position, use `ser.iloc[pos]`\n",
            "  pivots_low.append((data.index[i], data['Low'][i]))\n",
            "<ipython-input-1-40dd30f49477>:18: FutureWarning: Series.__getitem__ treating keys as positions is deprecated. In a future version, integer keys will always be treated as labels (consistent with DataFrame behavior). To access a value by position, use `ser.iloc[pos]`\n",
            "  all(data['High'][i] > data['High'][i + j] for j in range(1, right + 1))\n",
            "<ipython-input-1-40dd30f49477>:23: FutureWarning: Series.__getitem__ treating keys as positions is deprecated. In a future version, integer keys will always be treated as labels (consistent with DataFrame behavior). To access a value by position, use `ser.iloc[pos]`\n",
            "  pivots_high.append((data.index[i], data['High'][i]))\n",
            "[*********************100%***********************]  1 of 1 completed"
          ]
        },
        {
          "output_type": "stream",
          "name": "stdout",
          "text": [
            "Analyzing AUDJPY=X...\n"
          ]
        },
        {
          "output_type": "stream",
          "name": "stderr",
          "text": [
            "\n",
            "<ipython-input-1-40dd30f49477>:17: FutureWarning: Series.__getitem__ treating keys as positions is deprecated. In a future version, integer keys will always be treated as labels (consistent with DataFrame behavior). To access a value by position, use `ser.iloc[pos]`\n",
            "  is_pivot_high = all(data['High'][i] > data['High'][i - j] for j in range(1, left + 1)) and \\\n",
            "<ipython-input-1-40dd30f49477>:19: FutureWarning: Series.__getitem__ treating keys as positions is deprecated. In a future version, integer keys will always be treated as labels (consistent with DataFrame behavior). To access a value by position, use `ser.iloc[pos]`\n",
            "  is_pivot_low = all(data['Low'][i] < data['Low'][i - j] for j in range(1, left + 1)) and \\\n",
            "<ipython-input-1-40dd30f49477>:18: FutureWarning: Series.__getitem__ treating keys as positions is deprecated. In a future version, integer keys will always be treated as labels (consistent with DataFrame behavior). To access a value by position, use `ser.iloc[pos]`\n",
            "  all(data['High'][i] > data['High'][i + j] for j in range(1, right + 1))\n",
            "<ipython-input-1-40dd30f49477>:23: FutureWarning: Series.__getitem__ treating keys as positions is deprecated. In a future version, integer keys will always be treated as labels (consistent with DataFrame behavior). To access a value by position, use `ser.iloc[pos]`\n",
            "  pivots_high.append((data.index[i], data['High'][i]))\n",
            "<ipython-input-1-40dd30f49477>:20: FutureWarning: Series.__getitem__ treating keys as positions is deprecated. In a future version, integer keys will always be treated as labels (consistent with DataFrame behavior). To access a value by position, use `ser.iloc[pos]`\n",
            "  all(data['Low'][i] < data['Low'][i + j] for j in range(1, right + 1))\n",
            "<ipython-input-1-40dd30f49477>:25: FutureWarning: Series.__getitem__ treating keys as positions is deprecated. In a future version, integer keys will always be treated as labels (consistent with DataFrame behavior). To access a value by position, use `ser.iloc[pos]`\n",
            "  pivots_low.append((data.index[i], data['Low'][i]))\n"
          ]
        },
        {
          "output_type": "stream",
          "name": "stdout",
          "text": [
            "Analyzing AUDNZD=X...\n"
          ]
        },
        {
          "output_type": "stream",
          "name": "stderr",
          "text": [
            "\r[*********************100%***********************]  1 of 1 completed\n",
            "<ipython-input-1-40dd30f49477>:17: FutureWarning: Series.__getitem__ treating keys as positions is deprecated. In a future version, integer keys will always be treated as labels (consistent with DataFrame behavior). To access a value by position, use `ser.iloc[pos]`\n",
            "  is_pivot_high = all(data['High'][i] > data['High'][i - j] for j in range(1, left + 1)) and \\\n",
            "<ipython-input-1-40dd30f49477>:19: FutureWarning: Series.__getitem__ treating keys as positions is deprecated. In a future version, integer keys will always be treated as labels (consistent with DataFrame behavior). To access a value by position, use `ser.iloc[pos]`\n",
            "  is_pivot_low = all(data['Low'][i] < data['Low'][i - j] for j in range(1, left + 1)) and \\\n",
            "<ipython-input-1-40dd30f49477>:18: FutureWarning: Series.__getitem__ treating keys as positions is deprecated. In a future version, integer keys will always be treated as labels (consistent with DataFrame behavior). To access a value by position, use `ser.iloc[pos]`\n",
            "  all(data['High'][i] > data['High'][i + j] for j in range(1, right + 1))\n",
            "<ipython-input-1-40dd30f49477>:23: FutureWarning: Series.__getitem__ treating keys as positions is deprecated. In a future version, integer keys will always be treated as labels (consistent with DataFrame behavior). To access a value by position, use `ser.iloc[pos]`\n",
            "  pivots_high.append((data.index[i], data['High'][i]))\n",
            "<ipython-input-1-40dd30f49477>:20: FutureWarning: Series.__getitem__ treating keys as positions is deprecated. In a future version, integer keys will always be treated as labels (consistent with DataFrame behavior). To access a value by position, use `ser.iloc[pos]`\n",
            "  all(data['Low'][i] < data['Low'][i + j] for j in range(1, right + 1))\n",
            "<ipython-input-1-40dd30f49477>:25: FutureWarning: Series.__getitem__ treating keys as positions is deprecated. In a future version, integer keys will always be treated as labels (consistent with DataFrame behavior). To access a value by position, use `ser.iloc[pos]`\n",
            "  pivots_low.append((data.index[i], data['Low'][i]))\n"
          ]
        },
        {
          "output_type": "stream",
          "name": "stdout",
          "text": [
            "Analyzing AUDCHF=X...\n"
          ]
        },
        {
          "output_type": "stream",
          "name": "stderr",
          "text": [
            "\r[*********************100%***********************]  1 of 1 completed\n",
            "<ipython-input-1-40dd30f49477>:17: FutureWarning: Series.__getitem__ treating keys as positions is deprecated. In a future version, integer keys will always be treated as labels (consistent with DataFrame behavior). To access a value by position, use `ser.iloc[pos]`\n",
            "  is_pivot_high = all(data['High'][i] > data['High'][i - j] for j in range(1, left + 1)) and \\\n",
            "<ipython-input-1-40dd30f49477>:19: FutureWarning: Series.__getitem__ treating keys as positions is deprecated. In a future version, integer keys will always be treated as labels (consistent with DataFrame behavior). To access a value by position, use `ser.iloc[pos]`\n",
            "  is_pivot_low = all(data['Low'][i] < data['Low'][i - j] for j in range(1, left + 1)) and \\\n",
            "<ipython-input-1-40dd30f49477>:20: FutureWarning: Series.__getitem__ treating keys as positions is deprecated. In a future version, integer keys will always be treated as labels (consistent with DataFrame behavior). To access a value by position, use `ser.iloc[pos]`\n",
            "  all(data['Low'][i] < data['Low'][i + j] for j in range(1, right + 1))\n",
            "<ipython-input-1-40dd30f49477>:25: FutureWarning: Series.__getitem__ treating keys as positions is deprecated. In a future version, integer keys will always be treated as labels (consistent with DataFrame behavior). To access a value by position, use `ser.iloc[pos]`\n",
            "  pivots_low.append((data.index[i], data['Low'][i]))\n",
            "<ipython-input-1-40dd30f49477>:18: FutureWarning: Series.__getitem__ treating keys as positions is deprecated. In a future version, integer keys will always be treated as labels (consistent with DataFrame behavior). To access a value by position, use `ser.iloc[pos]`\n",
            "  all(data['High'][i] > data['High'][i + j] for j in range(1, right + 1))\n",
            "<ipython-input-1-40dd30f49477>:23: FutureWarning: Series.__getitem__ treating keys as positions is deprecated. In a future version, integer keys will always be treated as labels (consistent with DataFrame behavior). To access a value by position, use `ser.iloc[pos]`\n",
            "  pivots_high.append((data.index[i], data['High'][i]))\n"
          ]
        },
        {
          "output_type": "stream",
          "name": "stdout",
          "text": [
            "Analyzing AUDCAD=X...\n"
          ]
        },
        {
          "output_type": "stream",
          "name": "stderr",
          "text": [
            "\r[*********************100%***********************]  1 of 1 completed\n",
            "<ipython-input-1-40dd30f49477>:17: FutureWarning: Series.__getitem__ treating keys as positions is deprecated. In a future version, integer keys will always be treated as labels (consistent with DataFrame behavior). To access a value by position, use `ser.iloc[pos]`\n",
            "  is_pivot_high = all(data['High'][i] > data['High'][i - j] for j in range(1, left + 1)) and \\\n",
            "<ipython-input-1-40dd30f49477>:19: FutureWarning: Series.__getitem__ treating keys as positions is deprecated. In a future version, integer keys will always be treated as labels (consistent with DataFrame behavior). To access a value by position, use `ser.iloc[pos]`\n",
            "  is_pivot_low = all(data['Low'][i] < data['Low'][i - j] for j in range(1, left + 1)) and \\\n",
            "<ipython-input-1-40dd30f49477>:20: FutureWarning: Series.__getitem__ treating keys as positions is deprecated. In a future version, integer keys will always be treated as labels (consistent with DataFrame behavior). To access a value by position, use `ser.iloc[pos]`\n",
            "  all(data['Low'][i] < data['Low'][i + j] for j in range(1, right + 1))\n",
            "<ipython-input-1-40dd30f49477>:25: FutureWarning: Series.__getitem__ treating keys as positions is deprecated. In a future version, integer keys will always be treated as labels (consistent with DataFrame behavior). To access a value by position, use `ser.iloc[pos]`\n",
            "  pivots_low.append((data.index[i], data['Low'][i]))\n",
            "<ipython-input-1-40dd30f49477>:18: FutureWarning: Series.__getitem__ treating keys as positions is deprecated. In a future version, integer keys will always be treated as labels (consistent with DataFrame behavior). To access a value by position, use `ser.iloc[pos]`\n",
            "  all(data['High'][i] > data['High'][i + j] for j in range(1, right + 1))\n",
            "<ipython-input-1-40dd30f49477>:23: FutureWarning: Series.__getitem__ treating keys as positions is deprecated. In a future version, integer keys will always be treated as labels (consistent with DataFrame behavior). To access a value by position, use `ser.iloc[pos]`\n",
            "  pivots_high.append((data.index[i], data['High'][i]))\n"
          ]
        },
        {
          "output_type": "stream",
          "name": "stdout",
          "text": [
            "Analyzing NZDJPY=X...\n"
          ]
        },
        {
          "output_type": "stream",
          "name": "stderr",
          "text": [
            "\r[*********************100%***********************]  1 of 1 completed\n",
            "<ipython-input-1-40dd30f49477>:17: FutureWarning: Series.__getitem__ treating keys as positions is deprecated. In a future version, integer keys will always be treated as labels (consistent with DataFrame behavior). To access a value by position, use `ser.iloc[pos]`\n",
            "  is_pivot_high = all(data['High'][i] > data['High'][i - j] for j in range(1, left + 1)) and \\\n",
            "<ipython-input-1-40dd30f49477>:19: FutureWarning: Series.__getitem__ treating keys as positions is deprecated. In a future version, integer keys will always be treated as labels (consistent with DataFrame behavior). To access a value by position, use `ser.iloc[pos]`\n",
            "  is_pivot_low = all(data['Low'][i] < data['Low'][i - j] for j in range(1, left + 1)) and \\\n",
            "<ipython-input-1-40dd30f49477>:18: FutureWarning: Series.__getitem__ treating keys as positions is deprecated. In a future version, integer keys will always be treated as labels (consistent with DataFrame behavior). To access a value by position, use `ser.iloc[pos]`\n",
            "  all(data['High'][i] > data['High'][i + j] for j in range(1, right + 1))\n",
            "<ipython-input-1-40dd30f49477>:23: FutureWarning: Series.__getitem__ treating keys as positions is deprecated. In a future version, integer keys will always be treated as labels (consistent with DataFrame behavior). To access a value by position, use `ser.iloc[pos]`\n",
            "  pivots_high.append((data.index[i], data['High'][i]))\n",
            "<ipython-input-1-40dd30f49477>:20: FutureWarning: Series.__getitem__ treating keys as positions is deprecated. In a future version, integer keys will always be treated as labels (consistent with DataFrame behavior). To access a value by position, use `ser.iloc[pos]`\n",
            "  all(data['Low'][i] < data['Low'][i + j] for j in range(1, right + 1))\n",
            "<ipython-input-1-40dd30f49477>:25: FutureWarning: Series.__getitem__ treating keys as positions is deprecated. In a future version, integer keys will always be treated as labels (consistent with DataFrame behavior). To access a value by position, use `ser.iloc[pos]`\n",
            "  pivots_low.append((data.index[i], data['Low'][i]))\n",
            "[*********************100%***********************]  1 of 1 completed"
          ]
        },
        {
          "output_type": "stream",
          "name": "stdout",
          "text": [
            "Analyzing NZDCHF=X...\n"
          ]
        },
        {
          "output_type": "stream",
          "name": "stderr",
          "text": [
            "\n",
            "<ipython-input-1-40dd30f49477>:17: FutureWarning: Series.__getitem__ treating keys as positions is deprecated. In a future version, integer keys will always be treated as labels (consistent with DataFrame behavior). To access a value by position, use `ser.iloc[pos]`\n",
            "  is_pivot_high = all(data['High'][i] > data['High'][i - j] for j in range(1, left + 1)) and \\\n",
            "<ipython-input-1-40dd30f49477>:19: FutureWarning: Series.__getitem__ treating keys as positions is deprecated. In a future version, integer keys will always be treated as labels (consistent with DataFrame behavior). To access a value by position, use `ser.iloc[pos]`\n",
            "  is_pivot_low = all(data['Low'][i] < data['Low'][i - j] for j in range(1, left + 1)) and \\\n",
            "<ipython-input-1-40dd30f49477>:20: FutureWarning: Series.__getitem__ treating keys as positions is deprecated. In a future version, integer keys will always be treated as labels (consistent with DataFrame behavior). To access a value by position, use `ser.iloc[pos]`\n",
            "  all(data['Low'][i] < data['Low'][i + j] for j in range(1, right + 1))\n",
            "<ipython-input-1-40dd30f49477>:25: FutureWarning: Series.__getitem__ treating keys as positions is deprecated. In a future version, integer keys will always be treated as labels (consistent with DataFrame behavior). To access a value by position, use `ser.iloc[pos]`\n",
            "  pivots_low.append((data.index[i], data['Low'][i]))\n",
            "<ipython-input-1-40dd30f49477>:18: FutureWarning: Series.__getitem__ treating keys as positions is deprecated. In a future version, integer keys will always be treated as labels (consistent with DataFrame behavior). To access a value by position, use `ser.iloc[pos]`\n",
            "  all(data['High'][i] > data['High'][i + j] for j in range(1, right + 1))\n",
            "<ipython-input-1-40dd30f49477>:23: FutureWarning: Series.__getitem__ treating keys as positions is deprecated. In a future version, integer keys will always be treated as labels (consistent with DataFrame behavior). To access a value by position, use `ser.iloc[pos]`\n",
            "  pivots_high.append((data.index[i], data['High'][i]))\n"
          ]
        },
        {
          "output_type": "stream",
          "name": "stdout",
          "text": [
            "Analyzing NZDCAD=X...\n"
          ]
        },
        {
          "output_type": "stream",
          "name": "stderr",
          "text": [
            "\r[*********************100%***********************]  1 of 1 completed\n",
            "<ipython-input-1-40dd30f49477>:17: FutureWarning: Series.__getitem__ treating keys as positions is deprecated. In a future version, integer keys will always be treated as labels (consistent with DataFrame behavior). To access a value by position, use `ser.iloc[pos]`\n",
            "  is_pivot_high = all(data['High'][i] > data['High'][i - j] for j in range(1, left + 1)) and \\\n",
            "<ipython-input-1-40dd30f49477>:19: FutureWarning: Series.__getitem__ treating keys as positions is deprecated. In a future version, integer keys will always be treated as labels (consistent with DataFrame behavior). To access a value by position, use `ser.iloc[pos]`\n",
            "  is_pivot_low = all(data['Low'][i] < data['Low'][i - j] for j in range(1, left + 1)) and \\\n",
            "<ipython-input-1-40dd30f49477>:20: FutureWarning: Series.__getitem__ treating keys as positions is deprecated. In a future version, integer keys will always be treated as labels (consistent with DataFrame behavior). To access a value by position, use `ser.iloc[pos]`\n",
            "  all(data['Low'][i] < data['Low'][i + j] for j in range(1, right + 1))\n",
            "<ipython-input-1-40dd30f49477>:25: FutureWarning: Series.__getitem__ treating keys as positions is deprecated. In a future version, integer keys will always be treated as labels (consistent with DataFrame behavior). To access a value by position, use `ser.iloc[pos]`\n",
            "  pivots_low.append((data.index[i], data['Low'][i]))\n",
            "<ipython-input-1-40dd30f49477>:18: FutureWarning: Series.__getitem__ treating keys as positions is deprecated. In a future version, integer keys will always be treated as labels (consistent with DataFrame behavior). To access a value by position, use `ser.iloc[pos]`\n",
            "  all(data['High'][i] > data['High'][i + j] for j in range(1, right + 1))\n",
            "<ipython-input-1-40dd30f49477>:23: FutureWarning: Series.__getitem__ treating keys as positions is deprecated. In a future version, integer keys will always be treated as labels (consistent with DataFrame behavior). To access a value by position, use `ser.iloc[pos]`\n",
            "  pivots_high.append((data.index[i], data['High'][i]))\n"
          ]
        },
        {
          "output_type": "stream",
          "name": "stdout",
          "text": [
            "Analyzing CADJPY=X...\n"
          ]
        },
        {
          "output_type": "stream",
          "name": "stderr",
          "text": [
            "\r[*********************100%***********************]  1 of 1 completed\n",
            "<ipython-input-1-40dd30f49477>:17: FutureWarning: Series.__getitem__ treating keys as positions is deprecated. In a future version, integer keys will always be treated as labels (consistent with DataFrame behavior). To access a value by position, use `ser.iloc[pos]`\n",
            "  is_pivot_high = all(data['High'][i] > data['High'][i - j] for j in range(1, left + 1)) and \\\n",
            "<ipython-input-1-40dd30f49477>:19: FutureWarning: Series.__getitem__ treating keys as positions is deprecated. In a future version, integer keys will always be treated as labels (consistent with DataFrame behavior). To access a value by position, use `ser.iloc[pos]`\n",
            "  is_pivot_low = all(data['Low'][i] < data['Low'][i - j] for j in range(1, left + 1)) and \\\n",
            "<ipython-input-1-40dd30f49477>:18: FutureWarning: Series.__getitem__ treating keys as positions is deprecated. In a future version, integer keys will always be treated as labels (consistent with DataFrame behavior). To access a value by position, use `ser.iloc[pos]`\n",
            "  all(data['High'][i] > data['High'][i + j] for j in range(1, right + 1))\n",
            "<ipython-input-1-40dd30f49477>:23: FutureWarning: Series.__getitem__ treating keys as positions is deprecated. In a future version, integer keys will always be treated as labels (consistent with DataFrame behavior). To access a value by position, use `ser.iloc[pos]`\n",
            "  pivots_high.append((data.index[i], data['High'][i]))\n",
            "<ipython-input-1-40dd30f49477>:20: FutureWarning: Series.__getitem__ treating keys as positions is deprecated. In a future version, integer keys will always be treated as labels (consistent with DataFrame behavior). To access a value by position, use `ser.iloc[pos]`\n",
            "  all(data['Low'][i] < data['Low'][i + j] for j in range(1, right + 1))\n",
            "<ipython-input-1-40dd30f49477>:25: FutureWarning: Series.__getitem__ treating keys as positions is deprecated. In a future version, integer keys will always be treated as labels (consistent with DataFrame behavior). To access a value by position, use `ser.iloc[pos]`\n",
            "  pivots_low.append((data.index[i], data['Low'][i]))\n",
            "[*********************100%***********************]  1 of 1 completed"
          ]
        },
        {
          "output_type": "stream",
          "name": "stdout",
          "text": [
            "Analyzing CADCHF=X...\n"
          ]
        },
        {
          "output_type": "stream",
          "name": "stderr",
          "text": [
            "\n",
            "<ipython-input-1-40dd30f49477>:17: FutureWarning: Series.__getitem__ treating keys as positions is deprecated. In a future version, integer keys will always be treated as labels (consistent with DataFrame behavior). To access a value by position, use `ser.iloc[pos]`\n",
            "  is_pivot_high = all(data['High'][i] > data['High'][i - j] for j in range(1, left + 1)) and \\\n",
            "<ipython-input-1-40dd30f49477>:19: FutureWarning: Series.__getitem__ treating keys as positions is deprecated. In a future version, integer keys will always be treated as labels (consistent with DataFrame behavior). To access a value by position, use `ser.iloc[pos]`\n",
            "  is_pivot_low = all(data['Low'][i] < data['Low'][i - j] for j in range(1, left + 1)) and \\\n",
            "<ipython-input-1-40dd30f49477>:18: FutureWarning: Series.__getitem__ treating keys as positions is deprecated. In a future version, integer keys will always be treated as labels (consistent with DataFrame behavior). To access a value by position, use `ser.iloc[pos]`\n",
            "  all(data['High'][i] > data['High'][i + j] for j in range(1, right + 1))\n",
            "<ipython-input-1-40dd30f49477>:23: FutureWarning: Series.__getitem__ treating keys as positions is deprecated. In a future version, integer keys will always be treated as labels (consistent with DataFrame behavior). To access a value by position, use `ser.iloc[pos]`\n",
            "  pivots_high.append((data.index[i], data['High'][i]))\n",
            "<ipython-input-1-40dd30f49477>:20: FutureWarning: Series.__getitem__ treating keys as positions is deprecated. In a future version, integer keys will always be treated as labels (consistent with DataFrame behavior). To access a value by position, use `ser.iloc[pos]`\n",
            "  all(data['Low'][i] < data['Low'][i + j] for j in range(1, right + 1))\n",
            "<ipython-input-1-40dd30f49477>:25: FutureWarning: Series.__getitem__ treating keys as positions is deprecated. In a future version, integer keys will always be treated as labels (consistent with DataFrame behavior). To access a value by position, use `ser.iloc[pos]`\n",
            "  pivots_low.append((data.index[i], data['Low'][i]))\n"
          ]
        },
        {
          "output_type": "stream",
          "name": "stdout",
          "text": [
            "Analyzing CHFJPY=X...\n"
          ]
        },
        {
          "output_type": "stream",
          "name": "stderr",
          "text": [
            "\r[*********************100%***********************]  1 of 1 completed\n",
            "<ipython-input-1-40dd30f49477>:17: FutureWarning: Series.__getitem__ treating keys as positions is deprecated. In a future version, integer keys will always be treated as labels (consistent with DataFrame behavior). To access a value by position, use `ser.iloc[pos]`\n",
            "  is_pivot_high = all(data['High'][i] > data['High'][i - j] for j in range(1, left + 1)) and \\\n",
            "<ipython-input-1-40dd30f49477>:19: FutureWarning: Series.__getitem__ treating keys as positions is deprecated. In a future version, integer keys will always be treated as labels (consistent with DataFrame behavior). To access a value by position, use `ser.iloc[pos]`\n",
            "  is_pivot_low = all(data['Low'][i] < data['Low'][i - j] for j in range(1, left + 1)) and \\\n",
            "<ipython-input-1-40dd30f49477>:18: FutureWarning: Series.__getitem__ treating keys as positions is deprecated. In a future version, integer keys will always be treated as labels (consistent with DataFrame behavior). To access a value by position, use `ser.iloc[pos]`\n",
            "  all(data['High'][i] > data['High'][i + j] for j in range(1, right + 1))\n",
            "<ipython-input-1-40dd30f49477>:23: FutureWarning: Series.__getitem__ treating keys as positions is deprecated. In a future version, integer keys will always be treated as labels (consistent with DataFrame behavior). To access a value by position, use `ser.iloc[pos]`\n",
            "  pivots_high.append((data.index[i], data['High'][i]))\n",
            "<ipython-input-1-40dd30f49477>:20: FutureWarning: Series.__getitem__ treating keys as positions is deprecated. In a future version, integer keys will always be treated as labels (consistent with DataFrame behavior). To access a value by position, use `ser.iloc[pos]`\n",
            "  all(data['Low'][i] < data['Low'][i + j] for j in range(1, right + 1))\n",
            "<ipython-input-1-40dd30f49477>:25: FutureWarning: Series.__getitem__ treating keys as positions is deprecated. In a future version, integer keys will always be treated as labels (consistent with DataFrame behavior). To access a value by position, use `ser.iloc[pos]`\n",
            "  pivots_low.append((data.index[i], data['Low'][i]))\n"
          ]
        },
        {
          "output_type": "stream",
          "name": "stdout",
          "text": [
            "         Date      Pair  Level       Price   Fib Level\n",
            "26 2024-05-03  CHFJPY=X  78.6%  168.209000  168.107702\n",
            "16 2024-07-01  GBPCAD=X  78.6%    1.729310    1.727676\n",
            "10 2024-07-11  EURCAD=X  38.2%    1.475100    1.474284\n",
            "25 2024-07-15  CADCHF=X  78.6%    0.657120    0.657075\n",
            "19 2024-07-24  AUDCHF=X  78.6%    0.589420    0.590481\n",
            "4  2024-07-24  USDCHF=X  78.6%    0.891520    0.891164\n",
            "24 2024-07-31  CADJPY=X  61.8%  110.226997  110.086729\n",
            "13 2024-07-31  GBPCHF=X  78.6%    1.132250    1.134466\n",
            "20 2024-08-14  AUDCAD=X  23.6%    0.910046    0.909859\n",
            "0  2024-08-16  EURUSD=X  23.6%    1.097273    1.097205\n",
            "1  2024-08-19  GBPUSD=X  23.6%    1.294716    1.295695\n",
            "22 2024-08-20  NZDCHF=X  78.6%    0.527570    0.528303\n",
            "17 2024-08-20  AUDJPY=X  61.8%   98.794998   98.959374\n",
            "6  2024-08-21  EURGBP=X  78.6%    0.853680    0.854899\n",
            "5  2024-08-23  USDCAD=X  78.6%    1.360340    1.359242\n",
            "3  2024-08-23  NZDUSD=X  38.2%    0.614360    0.615221\n",
            "2  2024-08-23  AUDUSD=X  23.6%    0.670820    0.671980\n",
            "7  2024-08-28  EURCHF=X  50.0%    0.940740    0.939175\n",
            "21 2024-08-28  NZDJPY=X  23.6%   89.884003   89.944359\n",
            "23 2024-08-28  NZDCAD=X  23.6%    0.839520    0.838974\n",
            "11 2024-08-29  EURJPY=X  50.0%  160.660995  160.834999\n",
            "9  2024-08-29  EURNZD=X  50.0%    1.780690    1.782655\n",
            "12 2024-08-29  GBPJPY=X  61.8%  190.544998  190.590870\n",
            "8  2024-08-29  EURAUD=X  38.2%    1.640010    1.640661\n",
            "14 2024-08-30  GBPAUD=X  23.6%    1.937120    1.937993\n",
            "15 2024-08-30  GBPNZD=X  61.8%    2.101880    2.097886\n",
            "18 2024-08-30  AUDNZD=X  78.6%    1.083900    1.082600\n"
          ]
        }
      ],
      "source": [
        "import yfinance as yf\n",
        "import pandas as pd\n",
        "import numpy as np\n",
        "\n",
        "# Fetch Historical Data\n",
        "def get_forex_data(pair, start, end):\n",
        "    data = yf.download(pair, start=start, end=end, interval='1d')\n",
        "    data = data[['Open', 'High', 'Low', 'Close']]\n",
        "    return data\n",
        "\n",
        "# Identify Pivot Highs and Lows\n",
        "def identify_pivots(data, left=20, right=1):\n",
        "    pivots_high = []\n",
        "    pivots_low = []\n",
        "\n",
        "    for i in range(left, len(data) - right):\n",
        "        is_pivot_high = all(data['High'][i] > data['High'][i - j] for j in range(1, left + 1)) and \\\n",
        "                        all(data['High'][i] > data['High'][i + j] for j in range(1, right + 1))\n",
        "        is_pivot_low = all(data['Low'][i] < data['Low'][i - j] for j in range(1, left + 1)) and \\\n",
        "                       all(data['Low'][i] < data['Low'][i + j] for j in range(1, right + 1))\n",
        "\n",
        "        if is_pivot_high:\n",
        "            pivots_high.append((data.index[i], data['High'][i]))\n",
        "        if is_pivot_low:\n",
        "            pivots_low.append((data.index[i], data['Low'][i]))\n",
        "\n",
        "    return pd.DataFrame(pivots_high, columns=['Date', 'Pivot High']), pd.DataFrame(pivots_low, columns=['Date', 'Pivot Low'])\n",
        "\n",
        "# Calculate Fibonacci Levels with ±0.2% Tolerance\n",
        "def calculate_fibonacci_levels(pivot_low, pivot_high):\n",
        "    levels = {\n",
        "        '23.6%': pivot_high - 0.236 * (pivot_high - pivot_low),\n",
        "        '38.2%': pivot_high - 0.382 * (pivot_high - pivot_low),\n",
        "        '50.0%': pivot_high - 0.500 * (pivot_high - pivot_low),\n",
        "        '61.8%': pivot_high - 0.618 * (pivot_high - pivot_low),\n",
        "        '78.6%': pivot_high - 0.786 * (pivot_high - pivot_low),\n",
        "    }\n",
        "    return levels\n",
        "\n",
        "def calculate_fib_tolerance(levels, tolerance_percent=0.002):\n",
        "    fib_tolerance = {}\n",
        "    for level_name, level_price in levels.items():\n",
        "        tolerance_value = level_price * tolerance_percent\n",
        "        fib_tolerance[level_name] = {\n",
        "            'Level': level_price,\n",
        "            'Upper Bound': level_price + tolerance_value,\n",
        "            'Lower Bound': level_price - tolerance_value\n",
        "        }\n",
        "    return fib_tolerance\n",
        "\n",
        "# Check for pairs near Fibonacci levels\n",
        "def check_fib_levels(data, pivots_high, pivots_low, pair):\n",
        "    last_fib_levels = {}\n",
        "\n",
        "    if pivots_high.empty or pivots_low.empty:\n",
        "        return last_fib_levels\n",
        "\n",
        "    for i in range(1, min(len(pivots_high), len(pivots_low))):\n",
        "        pivot_high_prev = pivots_high.iloc[i-1]['Pivot High']\n",
        "        pivot_low_prev = pivots_low.iloc[i-1]['Pivot Low']\n",
        "\n",
        "        fib_levels = calculate_fibonacci_levels(pivot_low_prev, pivot_high_prev)\n",
        "        fib_tolerance_levels = calculate_fib_tolerance(fib_levels)\n",
        "\n",
        "        for j in range(1, len(data)):\n",
        "            close_price = data['Close'].iloc[j]\n",
        "            for level_name, bounds in fib_tolerance_levels.items():\n",
        "                if bounds['Lower Bound'] <= close_price <= bounds['Upper Bound']:\n",
        "                    last_fib_levels[pair] = {\n",
        "                        'Date': data.index[j],\n",
        "                        'Pair': pair,\n",
        "                        'Level': level_name,\n",
        "                        'Price': close_price,\n",
        "                        'Fib Level': fib_levels[level_name]\n",
        "                    }\n",
        "\n",
        "    return last_fib_levels\n",
        "\n",
        "# Main function to check all pairs\n",
        "def analyze_forex_pairs(pairs, start_date, end_date):\n",
        "    final_results = []\n",
        "    for pair in pairs:\n",
        "        print(f\"Analyzing {pair}...\")\n",
        "        forex_data = get_forex_data(pair, start_date, end_date)\n",
        "        pivots_high, pivots_low = identify_pivots(forex_data)\n",
        "        last_fib_levels = check_fib_levels(forex_data, pivots_high, pivots_low, pair)\n",
        "\n",
        "        if last_fib_levels:\n",
        "            final_results.append(last_fib_levels[pair])\n",
        "\n",
        "    results_df = pd.DataFrame(final_results)\n",
        "\n",
        "    # Sort the DataFrame by Date in ascending order\n",
        "    results_df = results_df.sort_values(by='Date', ascending=True)\n",
        "\n",
        "    if not results_df.empty:\n",
        "        print(results_df)\n",
        "    else:\n",
        "        print(\"No pairs near Fibonacci levels.\")\n",
        "\n",
        "# Define the pairs to analyze\n",
        "pairs = [\n",
        "    'EURUSD=X', 'GBPUSD=X', 'AUDUSD=X', 'NZDUSD=X', 'USDCHF=X', 'USDCAD=X',\n",
        "    'EURGBP=X', 'EURCHF=X', 'EURAUD=X', 'EURNZD=X', 'EURCAD=X', 'EURJPY=X',\n",
        "    'GBPJPY=X', 'GBPCHF=X', 'GBPAUD=X', 'GBPNZD=X', 'GBPCAD=X',\n",
        "    'AUDJPY=X', 'AUDNZD=X', 'AUDCHF=X', 'AUDCAD=X',\n",
        "    'NZDJPY=X', 'NZDCHF=X', 'NZDCAD=X',\n",
        "    'CADJPY=X', 'CADCHF=X',\n",
        "    'CHFJPY=X'\n",
        "]\n",
        "\n",
        "# Run the analysis\n",
        "start_date = '2023-01-01'\n",
        "end_date = '2024-08-31'\n",
        "analyze_forex_pairs(pairs, start_date, end_date)\n"
      ]
    }
  ]
}